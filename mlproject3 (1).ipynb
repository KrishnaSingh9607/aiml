{
 "cells": [
  {
   "cell_type": "code",
   "execution_count": 24,
   "id": "05f88f7d-ca6c-4979-8d0f-19c12cff9f84",
   "metadata": {},
   "outputs": [
    {
     "name": "stdout",
     "output_type": "stream",
     "text": [
      "<class 'pandas.core.frame.DataFrame'>\n",
      "RangeIndex: 200 entries, 0 to 199\n",
      "Data columns (total 15 columns):\n",
      " #   Column                      Non-Null Count  Dtype  \n",
      "---  ------                      --------------  -----  \n",
      " 0   Order_ID                    200 non-null    object \n",
      " 1   Customer_Location           200 non-null    object \n",
      " 2   Restaurant_Location         200 non-null    object \n",
      " 3   Distance                    200 non-null    float64\n",
      " 4   Weather_Conditions          200 non-null    object \n",
      " 5   Traffic_Conditions          200 non-null    object \n",
      " 6   Delivery_Person_Experience  200 non-null    int64  \n",
      " 7   Order_Priority              200 non-null    object \n",
      " 8   Order_Time                  200 non-null    object \n",
      " 9   Vehicle_Type                200 non-null    object \n",
      " 10  Restaurant_Rating           200 non-null    float64\n",
      " 11  Customer_Rating             200 non-null    float64\n",
      " 12  Delivery_Time               200 non-null    float64\n",
      " 13  Order_Cost                  200 non-null    float64\n",
      " 14  Tip_Amount                  200 non-null    float64\n",
      "dtypes: float64(6), int64(1), object(8)\n",
      "memory usage: 23.6+ KB\n",
      "None\n",
      "  Order_ID       Customer_Location     Restaurant_Location  Distance  \\\n",
      "0  ORD0001  (17.030479, 79.743077)  (12.358515, 85.100083)      1.57   \n",
      "1  ORD0002  (15.398319, 86.639122)  (14.174874, 77.025606)     21.32   \n",
      "2  ORD0003  (15.687342, 83.888808)  (19.594748, 82.048482)      6.95   \n",
      "3  ORD0004  (20.415599, 78.046984)  (16.915906, 78.278698)     13.79   \n",
      "4  ORD0005  (14.786904, 78.706532)  (15.206038, 86.203182)      6.72   \n",
      "\n",
      "  Weather_Conditions Traffic_Conditions  Delivery_Person_Experience  \\\n",
      "0              Rainy             Medium                           4   \n",
      "1             Cloudy             Medium                           8   \n",
      "2              Snowy             Medium                           9   \n",
      "3             Cloudy                Low                           2   \n",
      "4              Rainy               High                           6   \n",
      "\n",
      "  Order_Priority Order_Time Vehicle_Type  Restaurant_Rating  Customer_Rating  \\\n",
      "0         Medium  Afternoon          Car                4.1              3.0   \n",
      "1            Low      Night          Car                4.5              4.2   \n",
      "2           High      Night         Bike                3.3              3.4   \n",
      "3         Medium    Evening         Bike                3.2              3.7   \n",
      "4            Low      Night         Bike                3.5              2.8   \n",
      "\n",
      "   Delivery_Time  Order_Cost  Tip_Amount  \n",
      "0          26.22     1321.10       81.54  \n",
      "1          62.61      152.21       29.02  \n",
      "2          48.43     1644.38       64.17  \n",
      "3         111.63      541.25       79.23  \n",
      "4          32.38      619.81        2.34  \n"
     ]
    }
   ],
   "source": [
    "import pandas as pd\n",
    "from sklearn.model_selection import train_test_split\n",
    "\n",
    "# Load your data\n",
    "file_path = r\"C:\\Users\\kunal\\Downloads\\Food_Delivery_Time_Prediction.csv\"  # Update this path if local or use gdown to download from Google Drive\n",
    "df = pd.read_csv(file_path)\n",
    "\n",
    "# Inspect the data\n",
    "print(df.info())\n",
    "print(df.head())\n"
   ]
  },
  {
   "cell_type": "code",
   "execution_count": 25,
   "id": "865119d9-0a74-4e96-9fc8-2efa02405275",
   "metadata": {},
   "outputs": [
    {
     "name": "stderr",
     "output_type": "stream",
     "text": [
      "C:\\Users\\kunal\\AppData\\Local\\Temp\\ipykernel_2532\\3363913158.py:3: FutureWarning: A value is trying to be set on a copy of a DataFrame or Series through chained assignment using an inplace method.\n",
      "The behavior will change in pandas 3.0. This inplace method will never work because the intermediate object on which we are setting values always behaves as a copy.\n",
      "\n",
      "For example, when doing 'df[col].method(value, inplace=True)', try using 'df.method({col: value}, inplace=True)' or df[col] = df[col].method(value) instead, to perform the operation inplace on the original object.\n",
      "\n",
      "\n",
      "  df[col].fillna(df[col].mean(), inplace=True)\n",
      "C:\\Users\\kunal\\AppData\\Local\\Temp\\ipykernel_2532\\3363913158.py:5: FutureWarning: A value is trying to be set on a copy of a DataFrame or Series through chained assignment using an inplace method.\n",
      "The behavior will change in pandas 3.0. This inplace method will never work because the intermediate object on which we are setting values always behaves as a copy.\n",
      "\n",
      "For example, when doing 'df[col].method(value, inplace=True)', try using 'df.method({col: value}, inplace=True)' or df[col] = df[col].method(value) instead, to perform the operation inplace on the original object.\n",
      "\n",
      "\n",
      "  df[col].fillna(df[col].mode()[0], inplace=True)\n"
     ]
    }
   ],
   "source": [
    "# Impute missing values (example: fill numerical with mean, categorical with mode)\n",
    "for col in df.select_dtypes(include='number').columns:\n",
    "    df[col].fillna(df[col].mean(), inplace=True)\n",
    "for col in df.select_dtypes(include='object').columns:\n",
    "    df[col].fillna(df[col].mode()[0], inplace=True)\n",
    "\n"
   ]
  },
  {
   "cell_type": "code",
   "execution_count": 26,
   "id": "14ad90cf-86ea-45ce-9dd4-f56e67dff5e6",
   "metadata": {},
   "outputs": [
    {
     "ename": "KeyError",
     "evalue": "'weather'",
     "output_type": "error",
     "traceback": [
      "\u001b[1;31m---------------------------------------------------------------------------\u001b[0m",
      "\u001b[1;31mKeyError\u001b[0m                                  Traceback (most recent call last)",
      "File \u001b[1;32m~\\anaconda3\\Lib\\site-packages\\pandas\\core\\indexes\\base.py:3805\u001b[0m, in \u001b[0;36mIndex.get_loc\u001b[1;34m(self, key)\u001b[0m\n\u001b[0;32m   3804\u001b[0m \u001b[38;5;28;01mtry\u001b[39;00m:\n\u001b[1;32m-> 3805\u001b[0m     \u001b[38;5;28;01mreturn\u001b[39;00m \u001b[38;5;28mself\u001b[39m\u001b[38;5;241m.\u001b[39m_engine\u001b[38;5;241m.\u001b[39mget_loc(casted_key)\n\u001b[0;32m   3806\u001b[0m \u001b[38;5;28;01mexcept\u001b[39;00m \u001b[38;5;167;01mKeyError\u001b[39;00m \u001b[38;5;28;01mas\u001b[39;00m err:\n",
      "File \u001b[1;32mindex.pyx:167\u001b[0m, in \u001b[0;36mpandas._libs.index.IndexEngine.get_loc\u001b[1;34m()\u001b[0m\n",
      "File \u001b[1;32mindex.pyx:196\u001b[0m, in \u001b[0;36mpandas._libs.index.IndexEngine.get_loc\u001b[1;34m()\u001b[0m\n",
      "File \u001b[1;32mpandas\\\\_libs\\\\hashtable_class_helper.pxi:7081\u001b[0m, in \u001b[0;36mpandas._libs.hashtable.PyObjectHashTable.get_item\u001b[1;34m()\u001b[0m\n",
      "File \u001b[1;32mpandas\\\\_libs\\\\hashtable_class_helper.pxi:7089\u001b[0m, in \u001b[0;36mpandas._libs.hashtable.PyObjectHashTable.get_item\u001b[1;34m()\u001b[0m\n",
      "\u001b[1;31mKeyError\u001b[0m: 'weather'",
      "\nThe above exception was the direct cause of the following exception:\n",
      "\u001b[1;31mKeyError\u001b[0m                                  Traceback (most recent call last)",
      "Cell \u001b[1;32mIn[26], line 7\u001b[0m\n\u001b[0;32m      5\u001b[0m \u001b[38;5;28;01mfor\u001b[39;00m col \u001b[38;5;129;01min\u001b[39;00m categorical_cols:\n\u001b[0;32m      6\u001b[0m     le \u001b[38;5;241m=\u001b[39m LabelEncoder()\n\u001b[1;32m----> 7\u001b[0m     df[col] \u001b[38;5;241m=\u001b[39m le\u001b[38;5;241m.\u001b[39mfit_transform(df[col])\n\u001b[0;32m      8\u001b[0m     label_encoders[col] \u001b[38;5;241m=\u001b[39m le\n",
      "File \u001b[1;32m~\\anaconda3\\Lib\\site-packages\\pandas\\core\\frame.py:4102\u001b[0m, in \u001b[0;36mDataFrame.__getitem__\u001b[1;34m(self, key)\u001b[0m\n\u001b[0;32m   4100\u001b[0m \u001b[38;5;28;01mif\u001b[39;00m \u001b[38;5;28mself\u001b[39m\u001b[38;5;241m.\u001b[39mcolumns\u001b[38;5;241m.\u001b[39mnlevels \u001b[38;5;241m>\u001b[39m \u001b[38;5;241m1\u001b[39m:\n\u001b[0;32m   4101\u001b[0m     \u001b[38;5;28;01mreturn\u001b[39;00m \u001b[38;5;28mself\u001b[39m\u001b[38;5;241m.\u001b[39m_getitem_multilevel(key)\n\u001b[1;32m-> 4102\u001b[0m indexer \u001b[38;5;241m=\u001b[39m \u001b[38;5;28mself\u001b[39m\u001b[38;5;241m.\u001b[39mcolumns\u001b[38;5;241m.\u001b[39mget_loc(key)\n\u001b[0;32m   4103\u001b[0m \u001b[38;5;28;01mif\u001b[39;00m is_integer(indexer):\n\u001b[0;32m   4104\u001b[0m     indexer \u001b[38;5;241m=\u001b[39m [indexer]\n",
      "File \u001b[1;32m~\\anaconda3\\Lib\\site-packages\\pandas\\core\\indexes\\base.py:3812\u001b[0m, in \u001b[0;36mIndex.get_loc\u001b[1;34m(self, key)\u001b[0m\n\u001b[0;32m   3807\u001b[0m     \u001b[38;5;28;01mif\u001b[39;00m \u001b[38;5;28misinstance\u001b[39m(casted_key, \u001b[38;5;28mslice\u001b[39m) \u001b[38;5;129;01mor\u001b[39;00m (\n\u001b[0;32m   3808\u001b[0m         \u001b[38;5;28misinstance\u001b[39m(casted_key, abc\u001b[38;5;241m.\u001b[39mIterable)\n\u001b[0;32m   3809\u001b[0m         \u001b[38;5;129;01mand\u001b[39;00m \u001b[38;5;28many\u001b[39m(\u001b[38;5;28misinstance\u001b[39m(x, \u001b[38;5;28mslice\u001b[39m) \u001b[38;5;28;01mfor\u001b[39;00m x \u001b[38;5;129;01min\u001b[39;00m casted_key)\n\u001b[0;32m   3810\u001b[0m     ):\n\u001b[0;32m   3811\u001b[0m         \u001b[38;5;28;01mraise\u001b[39;00m InvalidIndexError(key)\n\u001b[1;32m-> 3812\u001b[0m     \u001b[38;5;28;01mraise\u001b[39;00m \u001b[38;5;167;01mKeyError\u001b[39;00m(key) \u001b[38;5;28;01mfrom\u001b[39;00m\u001b[38;5;250m \u001b[39m\u001b[38;5;21;01merr\u001b[39;00m\n\u001b[0;32m   3813\u001b[0m \u001b[38;5;28;01mexcept\u001b[39;00m \u001b[38;5;167;01mTypeError\u001b[39;00m:\n\u001b[0;32m   3814\u001b[0m     \u001b[38;5;66;03m# If we have a listlike key, _check_indexing_error will raise\u001b[39;00m\n\u001b[0;32m   3815\u001b[0m     \u001b[38;5;66;03m#  InvalidIndexError. Otherwise we fall through and re-raise\u001b[39;00m\n\u001b[0;32m   3816\u001b[0m     \u001b[38;5;66;03m#  the TypeError.\u001b[39;00m\n\u001b[0;32m   3817\u001b[0m     \u001b[38;5;28mself\u001b[39m\u001b[38;5;241m.\u001b[39m_check_indexing_error(key)\n",
      "\u001b[1;31mKeyError\u001b[0m: 'weather'"
     ]
    }
   ],
   "source": [
    "from sklearn.preprocessing import LabelEncoder\n",
    "\n",
    "label_encoders = {}\n",
    "categorical_cols = ['weather', 'traffic', 'vehicle_type']\n",
    "for col in categorical_cols:\n",
    "    le = LabelEncoder()\n",
    "    df[col] = le.fit_transform(df[col])\n",
    "    label_encoders[col] = le\n"
   ]
  },
  {
   "cell_type": "code",
   "execution_count": null,
   "id": "13770bc7-8acf-46c5-a0f7-d187cdbf99aa",
   "metadata": {},
   "outputs": [],
   "source": [
    "from sklearn.preprocessing import MinMaxScaler\n",
    "\n",
    "scaler = MinMaxScaler()\n",
    "continuous_cols = ['distance', 'delivery_time']\n",
    "df[continuous_cols] = scaler.fit_transform(df[continuous_cols])\n"
   ]
  },
  {
   "cell_type": "code",
   "execution_count": null,
   "id": "76260a06-9c9f-4ede-8da2-b5998d3f0c57",
   "metadata": {},
   "outputs": [],
   "source": [
    "import numpy as np\n",
    "\n",
    "def haversine(lat1, lon1, lat2, lon2):\n",
    "    R = 6371  # Earth radius (km)\n",
    "    lat1_rad, lon1_rad, lat2_rad, lon2_rad = np.radians([lat1, lon1, lat2, lon2])\n",
    "    dlat = lat2_rad - lat1_rad\n",
    "    dlon = lon2_rad - lon1_rad\n",
    "    a = np.sin(dlat / 2.0) ** 2 + np.cos(lat1_rad) * np.cos(lat2_rad) * np.sin(dlon / 2.0) ** 2\n",
    "    c = 2 * np.arcsin(np.sqrt(a))\n",
    "    return R * c\n",
    "\n",
    "df['geo_distance'] = haversine(\n",
    "    df['restaurant_lat'], df['restaurant_lon'],\n",
    "    df['customer_lat'], df['customer_lon']\n",
    ")\n"
   ]
  },
  {
   "cell_type": "code",
   "execution_count": null,
   "id": "a7622c54-f2fa-4fbf-898f-ef6c5df5e038",
   "metadata": {},
   "outputs": [],
   "source": [
    "# Suppose delivery_time > threshold is delayed, <= threshold is fast\n",
    "threshold = df['delivery_time'].median()\n",
    "df['delivery_status'] = (df['delivery_time'] > threshold).astype(int)\n"
   ]
  },
  {
   "cell_type": "code",
   "execution_count": null,
   "id": "bc823e44-3f49-4fd3-ab6e-2890a6c29961",
   "metadata": {},
   "outputs": [],
   "source": [
    "from sklearn.model_selection import train_test_split\n",
    "\n",
    "features = ['distance', 'geo_distance', 'weather', 'traffic', 'vehicle_type']  # update as necessary\n",
    "X = df[features]\n",
    "y = df['delivery_status']\n",
    "\n",
    "X_train, X_test, y_train, y_test = train_test_split(X, y, test_size=0.2, random_state=42)\n"
   ]
  },
  {
   "cell_type": "code",
   "execution_count": null,
   "id": "5c35d50a-7758-481f-b88d-4214369756af",
   "metadata": {},
   "outputs": [],
   "source": [
    "from sklearn.naive_bayes import GaussianNB\n",
    "from sklearn.metrics import classification_report, confusion_matrix, roc_curve, auc\n",
    "\n",
    "gnb = GaussianNB()\n",
    "gnb.fit(X_train, y_train)\n",
    "y_pred_gnb = gnb.predict(X_test)\n",
    "print(\"Naive Bayes Classification Report:\\n\", classification_report(y_test, y_pred_gnb))\n",
    "print(\"Confusion Matrix:\\n\", confusion_matrix(y_test, y_pred_gnb))\n"
   ]
  },
  {
   "cell_type": "code",
   "execution_count": null,
   "id": "1847f77e-089b-4c0d-9255-2dd506568a2a",
   "metadata": {},
   "outputs": [],
   "source": [
    "from sklearn.neighbors import KNeighborsClassifier\n",
    "from sklearn.model_selection import GridSearchCV\n",
    "\n",
    "param_grid = {'n_neighbors': list(range(3, 16))}\n",
    "knn = KNeighborsClassifier()\n",
    "grid = GridSearchCV(knn, param_grid, cv=5, scoring='f1')\n",
    "grid.fit(X_train, y_train)\n",
    "print(\"Best K:\", grid.best_params_)\n",
    "\n",
    "knn_best = grid.best_estimator_\n",
    "y_pred_knn = knn_best.predict(X_test)\n",
    "print(classification_report(y_test, y_pred_knn))\n",
    "print(confusion_matrix(y_test, y_pred_knn))\n"
   ]
  },
  {
   "cell_type": "code",
   "execution_count": null,
   "id": "676f5a5a-3e80-4cd0-ac3b-bf13cc858f6c",
   "metadata": {},
   "outputs": [],
   "source": [
    "from sklearn.tree import DecisionTreeClassifier\n",
    "\n",
    "param_grid = {\n",
    "    'max_depth': [3, 5, 7, 10],\n",
    "    'min_samples_split': [2, 5, 10],\n",
    "}\n",
    "dt = DecisionTreeClassifier(random_state=42)\n",
    "grid_dt = GridSearchCV(dt, param_grid, cv=5, scoring='f1')\n",
    "grid_dt.fit(X_train, y_train)\n",
    "print(\"Best Params:\", grid_dt.best_params_)\n",
    "\n",
    "dt_best = grid_dt.best_estimator_\n",
    "y_pred_dt = dt_best.predict(X_test)\n",
    "print(classification_report(y_test, y_pred_dt))\n",
    "print(confusion_matrix(y_test, y_pred_dt))\n"
   ]
  },
  {
   "cell_type": "code",
   "execution_count": null,
   "id": "1de2ca23-d87d-457d-b667-f90d87be95cf",
   "metadata": {},
   "outputs": [],
   "source": [
    "results = {\n",
    "    'Model': ['Naive Bayes', 'KNN', 'Decision Tree'],\n",
    "    'Accuracy': [accuracy_score(y_test, y_pred_gnb), accuracy_score(y_test, y_pred_knn), accuracy_score(y_test, y_pred_dt)],\n",
    "    'Precision': [precision_score(y_test, y_pred_gnb), precision_score(y_test, y_pred_knn), precision_score(y_test, y_pred_dt)],\n",
    "    'Recall': [recall_score(y_test, y_pred_gnb), recall_score(y_test, y_pred_knn), recall_score(y_test, y_pred_dt)],\n",
    "    'F1 Score': [f1_score(y_test, y_pred_gnb), f1_score(y_test, y_pred_knn), f1_score(y_test, y_pred_dt)]\n",
    "}\n",
    "comparison_df = pd.DataFrame(results)\n",
    "print(comparison_df)\n"
   ]
  },
  {
   "cell_type": "code",
   "execution_count": null,
   "id": "75563f00-d650-4b3c-9539-5022e26c4f54",
   "metadata": {},
   "outputs": [],
   "source": [
    "import matplotlib.pyplot as plt\n",
    "from sklearn.metrics import roc_curve, auc\n",
    "\n",
    "def plot_confusion_matrix(y_true, y_pred, title):\n",
    "    cm = confusion_matrix(y_true, y_pred)\n",
    "    plt.imshow(cm, interpolation='nearest', cmap=plt.cm.Blues)\n",
    "    plt.title(title)\n",
    "    plt.colorbar()\n",
    "    plt.ylabel('True label')\n",
    "    plt.xlabel('Predicted label')\n",
    "    plt.show()\n",
    "\n",
    "plot_confusion_matrix(y_test, y_pred_gnb, \"Naive Bayes\")\n",
    "plot_confusion_matrix(y_test, y_pred_knn, \"KNN\")\n",
    "plot_confusion_matrix(y_test, y_pred_dt, \"Decision Tree\")\n",
    "\n",
    "# ROC curve for each\n",
    "plt.figure()\n",
    "for model, y_pred_prob, name in [\n",
    "    (gnb, gnb.predict_proba(X_test)[:,1], 'Naive Bayes'),\n",
    "    (knn_best, knn_best.predict_proba(X_test)[:,1], 'KNN'),\n",
    "    (dt_best, dt_best.predict_proba(X_test)[:,1], 'Decision Tree')\n",
    "]:\n",
    "    fpr, tpr, _ = roc_curve(y_test, y_pred_prob)\n",
    "    plt.plot(fpr, tpr, label=f'{name} (AUC = {auc(fpr, tpr):.2f})')\n",
    "plt.plot([0,1], [0,1], linestyle='--')\n",
    "plt.xlabel('False Positive Rate')\n",
    "plt.ylabel('True Positive Rate')\n",
    "plt.title('ROC Curves')\n",
    "plt.legend()\n",
    "plt.show()\n"
   ]
  },
  {
   "cell_type": "code",
   "execution_count": null,
   "id": "28b07725-9ef4-40ee-921c-21611675192e",
   "metadata": {},
   "outputs": [],
   "source": [
    "3. Actionable Insights\n",
    "Model Strengths and Weaknesses:\n",
    "\n",
    "Naive Bayes: Fast and easy, but may struggle if feature independence is violated.\n",
    "\n",
    "KNN: Simple, but computationally expensive for large datasets.\n",
    "\n",
    "Decision Tree: Highly interpretable, but can overfit (hence, pruning is important).\n",
    "\n",
    "Recommendation:\n",
    "\n",
    "If interpretability is critical: Choose Decision Tree.\n",
    "\n",
    "If speed and scalability are important: Choose Naive Bayes.\n",
    "\n",
    "If slightly higher accuracy is desired with proper tuning: Choose KNN.\n",
    "\n",
    "Final Deliverables\n",
    "Jupyter Notebook: Includes all code, analysis, and visualizations.\n",
    "\n",
    "Embedded Images: Confusion matrices and ROC curves in the notebook.\n",
    "\n",
    "Final Report: Summarizing findings, model performances, and recommendations (can be written as Markdown or in a .docx, .pdf, etc.)."
   ]
  }
 ],
 "metadata": {
  "kernelspec": {
   "display_name": "Python 3 (ipykernel)",
   "language": "python",
   "name": "python3"
  },
  "language_info": {
   "codemirror_mode": {
    "name": "ipython",
    "version": 3
   },
   "file_extension": ".py",
   "mimetype": "text/x-python",
   "name": "python",
   "nbconvert_exporter": "python",
   "pygments_lexer": "ipython3",
   "version": "3.13.5"
  }
 },
 "nbformat": 4,
 "nbformat_minor": 5
}
