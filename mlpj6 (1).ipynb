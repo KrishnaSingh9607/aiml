{
 "cells": [
  {
   "cell_type": "code",
   "execution_count": 54,
   "id": "2ded9ab6-386d-460b-8716-ea718ffb2799",
   "metadata": {},
   "outputs": [
    {
     "name": "stdout",
     "output_type": "stream",
     "text": [
      "<class 'pandas.core.frame.DataFrame'>\n",
      "RangeIndex: 200 entries, 0 to 199\n",
      "Data columns (total 13 columns):\n",
      " #   Column                                  Non-Null Count  Dtype  \n",
      "---  ------                                  --------------  -----  \n",
      " 0   Country                                 200 non-null    object \n",
      " 1   Year                                    200 non-null    int64  \n",
      " 2   Air_Pollution_Index                     200 non-null    float64\n",
      " 3   Water_Pollution_Index                   200 non-null    float64\n",
      " 4   Soil_Pollution_Index                    200 non-null    float64\n",
      " 5   Industrial_Waste (in tons)              200 non-null    float64\n",
      " 6   Energy_Recovered (in GWh)               200 non-null    float64\n",
      " 7   CO2_Emissions (in MT)                   200 non-null    float64\n",
      " 8   Renewable_Energy (%)                    200 non-null    float64\n",
      " 9   Plastic_Waste_Produced (in tons)        200 non-null    float64\n",
      " 10  Energy_Consumption_Per_Capita (in MWh)  200 non-null    float64\n",
      " 11  Population (in millions)                200 non-null    float64\n",
      " 12  GDP_Per_Capita (in USD)                 200 non-null    float64\n",
      "dtypes: float64(11), int64(1), object(1)\n",
      "memory usage: 20.4+ KB\n",
      "None\n",
      "        Country  Year  Air_Pollution_Index  Water_Pollution_Index  \\\n",
      "0       Hungary  2005               272.70                 124.27   \n",
      "1     Singapore  2001                86.72                  60.34   \n",
      "2       Romania  2016                91.59                  83.36   \n",
      "3  Cook Islands  2018               280.61                  67.16   \n",
      "4      Djibouti  2008               179.16                 127.53   \n",
      "\n",
      "   Soil_Pollution_Index  Industrial_Waste (in tons)  \\\n",
      "0                 51.95                    94802.83   \n",
      "1                117.22                    56283.92   \n",
      "2                121.72                    56256.02   \n",
      "3                 93.58                    74864.73   \n",
      "4                121.55                    76862.06   \n",
      "\n",
      "   Energy_Recovered (in GWh)  CO2_Emissions (in MT)  Renewable_Energy (%)  \\\n",
      "0                     158.14                   5.30                 41.11   \n",
      "1                     498.04                   6.34                 36.44   \n",
      "2                     489.51                  49.69                  9.38   \n",
      "3                     145.18                   8.91                 18.97   \n",
      "4                      40.38                  14.93                 34.00   \n",
      "\n",
      "   Plastic_Waste_Produced (in tons)  Energy_Consumption_Per_Capita (in MWh)  \\\n",
      "0                          37078.88                                   12.56   \n",
      "1                          33128.20                                    5.23   \n",
      "2                          18803.46                                   13.15   \n",
      "3                           9182.27                                    0.78   \n",
      "4                          39235.12                                   12.84   \n",
      "\n",
      "   Population (in millions)  GDP_Per_Capita (in USD)  \n",
      "0                     42.22                 20972.96  \n",
      "1                    137.25                 34850.41  \n",
      "2                    124.47                 57773.15  \n",
      "3                     67.80                 21837.51  \n",
      "4                    186.52                 41379.37  \n"
     ]
    },
    {
     "name": "stderr",
     "output_type": "stream",
     "text": [
      "C:\\Users\\kunal\\AppData\\Local\\Temp\\ipykernel_2532\\1110695401.py:14: FutureWarning: A value is trying to be set on a copy of a DataFrame or Series through chained assignment using an inplace method.\n",
      "The behavior will change in pandas 3.0. This inplace method will never work because the intermediate object on which we are setting values always behaves as a copy.\n",
      "\n",
      "For example, when doing 'df[col].method(value, inplace=True)', try using 'df.method({col: value}, inplace=True)' or df[col] = df[col].method(value) instead, to perform the operation inplace on the original object.\n",
      "\n",
      "\n",
      "  df[col].fillna(df[col].median(), inplace=True)\n",
      "C:\\Users\\kunal\\AppData\\Local\\Temp\\ipykernel_2532\\1110695401.py:17: FutureWarning: A value is trying to be set on a copy of a DataFrame or Series through chained assignment using an inplace method.\n",
      "The behavior will change in pandas 3.0. This inplace method will never work because the intermediate object on which we are setting values always behaves as a copy.\n",
      "\n",
      "For example, when doing 'df[col].method(value, inplace=True)', try using 'df.method({col: value}, inplace=True)' or df[col] = df[col].method(value) instead, to perform the operation inplace on the original object.\n",
      "\n",
      "\n",
      "  df[col].fillna(df[col].mode()[0], inplace=True)\n"
     ]
    }
   ],
   "source": [
    "import pandas as pd\n",
    "import numpy as np\n",
    "\n",
    "# Load dataset\n",
    "file_path = r\"C:\\Users\\kunal\\Downloads\\Global_Pollution_Analysis.csv\"\n",
    "df = pd.read_csv(file_path)\n",
    "\n",
    "# Initial data overview\n",
    "print(df.info())\n",
    "print(df.head())\n",
    "\n",
    "# Handling missing data: Impute numerical with median, categorical with mode\n",
    "for col in df.select_dtypes(include=np.number).columns:\n",
    "    df[col].fillna(df[col].median(), inplace=True)\n",
    "\n",
    "for col in df.select_dtypes(include='object').columns:\n",
    "    df[col].fillna(df[col].mode()[0], inplace=True)\n"
   ]
  },
  {
   "cell_type": "code",
   "execution_count": 55,
   "id": "e9d14dbf-1b77-45bc-a571-96b2325032e0",
   "metadata": {},
   "outputs": [
    {
     "ename": "KeyError",
     "evalue": "\"None of [Index(['air_pollution_index', 'water_pollution_index', 'soil_pollution_index'], dtype='object')] are in the [columns]\"",
     "output_type": "error",
     "traceback": [
      "\u001b[1;31m---------------------------------------------------------------------------\u001b[0m",
      "\u001b[1;31mKeyError\u001b[0m                                  Traceback (most recent call last)",
      "Cell \u001b[1;32mIn[55], line 5\u001b[0m\n\u001b[0;32m      3\u001b[0m pollution_cols \u001b[38;5;241m=\u001b[39m [\u001b[38;5;124m'\u001b[39m\u001b[38;5;124mair_pollution_index\u001b[39m\u001b[38;5;124m'\u001b[39m, \u001b[38;5;124m'\u001b[39m\u001b[38;5;124mwater_pollution_index\u001b[39m\u001b[38;5;124m'\u001b[39m, \u001b[38;5;124m'\u001b[39m\u001b[38;5;124msoil_pollution_index\u001b[39m\u001b[38;5;124m'\u001b[39m]\n\u001b[0;32m      4\u001b[0m scaler \u001b[38;5;241m=\u001b[39m StandardScaler()\n\u001b[1;32m----> 5\u001b[0m df[pollution_cols] \u001b[38;5;241m=\u001b[39m scaler\u001b[38;5;241m.\u001b[39mfit_transform(df[pollution_cols])\n",
      "File \u001b[1;32m~\\anaconda3\\Lib\\site-packages\\pandas\\core\\frame.py:4108\u001b[0m, in \u001b[0;36mDataFrame.__getitem__\u001b[1;34m(self, key)\u001b[0m\n\u001b[0;32m   4106\u001b[0m     \u001b[38;5;28;01mif\u001b[39;00m is_iterator(key):\n\u001b[0;32m   4107\u001b[0m         key \u001b[38;5;241m=\u001b[39m \u001b[38;5;28mlist\u001b[39m(key)\n\u001b[1;32m-> 4108\u001b[0m     indexer \u001b[38;5;241m=\u001b[39m \u001b[38;5;28mself\u001b[39m\u001b[38;5;241m.\u001b[39mcolumns\u001b[38;5;241m.\u001b[39m_get_indexer_strict(key, \u001b[38;5;124m\"\u001b[39m\u001b[38;5;124mcolumns\u001b[39m\u001b[38;5;124m\"\u001b[39m)[\u001b[38;5;241m1\u001b[39m]\n\u001b[0;32m   4110\u001b[0m \u001b[38;5;66;03m# take() does not accept boolean indexers\u001b[39;00m\n\u001b[0;32m   4111\u001b[0m \u001b[38;5;28;01mif\u001b[39;00m \u001b[38;5;28mgetattr\u001b[39m(indexer, \u001b[38;5;124m\"\u001b[39m\u001b[38;5;124mdtype\u001b[39m\u001b[38;5;124m\"\u001b[39m, \u001b[38;5;28;01mNone\u001b[39;00m) \u001b[38;5;241m==\u001b[39m \u001b[38;5;28mbool\u001b[39m:\n",
      "File \u001b[1;32m~\\anaconda3\\Lib\\site-packages\\pandas\\core\\indexes\\base.py:6200\u001b[0m, in \u001b[0;36mIndex._get_indexer_strict\u001b[1;34m(self, key, axis_name)\u001b[0m\n\u001b[0;32m   6197\u001b[0m \u001b[38;5;28;01melse\u001b[39;00m:\n\u001b[0;32m   6198\u001b[0m     keyarr, indexer, new_indexer \u001b[38;5;241m=\u001b[39m \u001b[38;5;28mself\u001b[39m\u001b[38;5;241m.\u001b[39m_reindex_non_unique(keyarr)\n\u001b[1;32m-> 6200\u001b[0m \u001b[38;5;28mself\u001b[39m\u001b[38;5;241m.\u001b[39m_raise_if_missing(keyarr, indexer, axis_name)\n\u001b[0;32m   6202\u001b[0m keyarr \u001b[38;5;241m=\u001b[39m \u001b[38;5;28mself\u001b[39m\u001b[38;5;241m.\u001b[39mtake(indexer)\n\u001b[0;32m   6203\u001b[0m \u001b[38;5;28;01mif\u001b[39;00m \u001b[38;5;28misinstance\u001b[39m(key, Index):\n\u001b[0;32m   6204\u001b[0m     \u001b[38;5;66;03m# GH 42790 - Preserve name from an Index\u001b[39;00m\n",
      "File \u001b[1;32m~\\anaconda3\\Lib\\site-packages\\pandas\\core\\indexes\\base.py:6249\u001b[0m, in \u001b[0;36mIndex._raise_if_missing\u001b[1;34m(self, key, indexer, axis_name)\u001b[0m\n\u001b[0;32m   6247\u001b[0m \u001b[38;5;28;01mif\u001b[39;00m nmissing:\n\u001b[0;32m   6248\u001b[0m     \u001b[38;5;28;01mif\u001b[39;00m nmissing \u001b[38;5;241m==\u001b[39m \u001b[38;5;28mlen\u001b[39m(indexer):\n\u001b[1;32m-> 6249\u001b[0m         \u001b[38;5;28;01mraise\u001b[39;00m \u001b[38;5;167;01mKeyError\u001b[39;00m(\u001b[38;5;124mf\u001b[39m\u001b[38;5;124m\"\u001b[39m\u001b[38;5;124mNone of [\u001b[39m\u001b[38;5;132;01m{\u001b[39;00mkey\u001b[38;5;132;01m}\u001b[39;00m\u001b[38;5;124m] are in the [\u001b[39m\u001b[38;5;132;01m{\u001b[39;00maxis_name\u001b[38;5;132;01m}\u001b[39;00m\u001b[38;5;124m]\u001b[39m\u001b[38;5;124m\"\u001b[39m)\n\u001b[0;32m   6251\u001b[0m     not_found \u001b[38;5;241m=\u001b[39m \u001b[38;5;28mlist\u001b[39m(ensure_index(key)[missing_mask\u001b[38;5;241m.\u001b[39mnonzero()[\u001b[38;5;241m0\u001b[39m]]\u001b[38;5;241m.\u001b[39munique())\n\u001b[0;32m   6252\u001b[0m     \u001b[38;5;28;01mraise\u001b[39;00m \u001b[38;5;167;01mKeyError\u001b[39;00m(\u001b[38;5;124mf\u001b[39m\u001b[38;5;124m\"\u001b[39m\u001b[38;5;132;01m{\u001b[39;00mnot_found\u001b[38;5;132;01m}\u001b[39;00m\u001b[38;5;124m not in index\u001b[39m\u001b[38;5;124m\"\u001b[39m)\n",
      "\u001b[1;31mKeyError\u001b[0m: \"None of [Index(['air_pollution_index', 'water_pollution_index', 'soil_pollution_index'], dtype='object')] are in the [columns]\""
     ]
    }
   ],
   "source": [
    "from sklearn.preprocessing import StandardScaler\n",
    "\n",
    "pollution_cols = ['air_pollution_index', 'water_pollution_index', 'soil_pollution_index']\n",
    "scaler = StandardScaler()\n",
    "df[pollution_cols] = scaler.fit_transform(df[pollution_cols])\n"
   ]
  },
  {
   "cell_type": "code",
   "execution_count": null,
   "id": "c3ab8975-bbbf-41b5-a85e-30b50f49af89",
   "metadata": {},
   "outputs": [],
   "source": [
    "from sklearn.preprocessing import LabelEncoder\n",
    "\n",
    "le_country = LabelEncoder()\n",
    "le_year = LabelEncoder()\n",
    "\n",
    "df['country'] = le_country.fit_transform(df['country'])\n",
    "df['year'] = le_year.fit_transform(df['year'])\n"
   ]
  },
  {
   "cell_type": "code",
   "execution_count": null,
   "id": "a3e89d4e-6157-4a17-bc3c-4315188d2d58",
   "metadata": {},
   "outputs": [],
   "source": [
    "# Energy consumption per capita\n",
    "df['energy_per_capita'] = df['energy_consumption'] / df['population']\n",
    "\n",
    "# Yearly pollution trend (change in pollution over years per country)\n",
    "df = df.sort_values(['country', 'year'])\n",
    "df['pollution_trend'] = df.groupby('country')['air_pollution_index'].diff().fillna(0)\n"
   ]
  },
  {
   "cell_type": "code",
   "execution_count": null,
   "id": "129cd899-fddd-49fa-a394-a4adbb4b2192",
   "metadata": {},
   "outputs": [],
   "source": [
    "from sklearn.cluster import KMeans\n",
    "import matplotlib.pyplot as plt\n",
    "\n",
    "features = ['air_pollution_index', 'water_pollution_index', 'soil_pollution_index', 'energy_per_capita']\n",
    "\n",
    "X = df[features]\n",
    "\n",
    "# Elbow method to find optimal clusters\n",
    "inertia = []\n",
    "for k in range(1, 11):\n",
    "    km = KMeans(n_clusters=k, random_state=42)\n",
    "    km.fit(X)\n",
    "    inertia.append(km.inertia_)\n",
    "\n",
    "plt.plot(range(1, 11), inertia, marker='o')\n",
    "plt.title(\"Elbow Method\")\n",
    "plt.xlabel(\"Number of clusters\")\n",
    "plt.ylabel(\"Inertia\")\n",
    "plt.show()\n",
    "\n",
    "# Fit KMeans with optimal k (e.g., k=3)\n",
    "kmeans = KMeans(n_clusters=3, random_state=42)\n",
    "df['kmeans_cluster'] = kmeans.fit_predict(X)\n"
   ]
  },
  {
   "cell_type": "code",
   "execution_count": null,
   "id": "a4b9faa5-82ce-4659-b371-0d302de81085",
   "metadata": {},
   "outputs": [],
   "source": [
    "from scipy.cluster.hierarchy import dendrogram, linkage\n",
    "import matplotlib.pyplot as plt\n",
    "\n",
    "sample_data = X.sample(n=500, random_state=42)  # sample for dendrogram if large data\n",
    "linked = linkage(sample_data, method='ward')\n",
    "\n",
    "plt.figure(figsize=(10, 7))\n",
    "dendrogram(linked, truncate_mode='level', p=5)\n",
    "plt.title('Hierarchical Clustering Dendrogram')\n",
    "plt.xlabel('Sample index or cluster size')\n",
    "plt.ylabel('Distance')\n",
    "plt.show()\n",
    "\n",
    "from sklearn.cluster import AgglomerativeClustering\n",
    "\n",
    "agg = AgglomerativeClustering(n_clusters=3)\n",
    "df['hierarchical_cluster'] = agg.fit_predict(X)\n"
   ]
  },
  {
   "cell_type": "code",
   "execution_count": null,
   "id": "ced39393-5c91-4ca9-ab24-6f09bbd5bc56",
   "metadata": {},
   "outputs": [],
   "source": [
    "from sklearn.model_selection import train_test_split\n",
    "\n",
    "target = 'energy_recovered_gwh'\n",
    "features_nn = ['air_pollution_index', 'water_pollution_index', 'soil_pollution_index', 'co2_emissions', 'industrial_waste']\n",
    "\n",
    "X_nn = df[features_nn]\n",
    "y_nn = df[target]\n",
    "\n",
    "X_train, X_test, y_train, y_test = train_test_split(X_nn, y_nn, test_size=0.2, random_state=42)\n"
   ]
  },
  {
   "cell_type": "code",
   "execution_count": null,
   "id": "bb51f1be-b0ff-4283-ba89-00eb5e506e65",
   "metadata": {},
   "outputs": [],
   "source": [
    "import tensorflow as tf\n",
    "from tensorflow.keras.models import Sequential\n",
    "from tensorflow.keras.layers import Dense\n",
    "\n",
    "model = Sequential([\n",
    "    Dense(64, activation='relu', input_shape=(X_train.shape[1],)),\n",
    "    Dense(32, activation='relu'),\n",
    "    Dense(1)\n",
    "])\n",
    "\n",
    "model.compile(optimizer='adam', loss='mse', metrics=['mae'])\n",
    "history = model.fit(X_train, y_train, epochs=50, batch_size=32, validation_split=0.2)\n"
   ]
  },
  {
   "cell_type": "code",
   "execution_count": null,
   "id": "802b3837-717f-496c-8ce7-b279a670aed5",
   "metadata": {},
   "outputs": [],
   "source": [
    "import matplotlib.pyplot as plt\n",
    "from sklearn.metrics import mean_squared_error, mean_absolute_error, r2_score\n",
    "\n",
    "y_pred = model.predict(X_test).flatten()\n",
    "\n",
    "mse = mean_squared_error(y_test, y_pred)\n",
    "mae = mean_absolute_error(y_test, y_pred)\n",
    "r2 = r2_score(y_test, y_pred)\n",
    "\n",
    "print(f'MSE: {mse:.4f}, MAE: {mae:.4f}, R^2: {r2:.4f}')\n",
    "\n",
    "plt.plot(history.history['loss'], label='Train Loss')\n",
    "plt.plot(history.history['val_loss'], label='Validation Loss')\n",
    "plt.title(\"Model Loss During Training\")\n",
    "plt.xlabel(\"Epoch\")\n",
    "plt.ylabel(\"Loss (MSE)\")\n",
    "plt.legend()\n",
    "plt.show()\n"
   ]
  },
  {
   "cell_type": "code",
   "execution_count": null,
   "id": "7e5a9d0d-4741-493a-bbd0-867dcbd7b7c9",
   "metadata": {},
   "outputs": [],
   "source": [
    " Reporting and Insights\n",
    "Compare clustering results: Analyze cluster characteristics, showing pollution levels and energy recovery.\n",
    "\n",
    "Interpret neural network predictions: Discuss model performance and potential improvements.\n",
    "\n",
    "Actionable insights: Recommend pollution reduction policies based on clusters; forecast energy recovery impact.\n",
    "\n",
    "Visualizations: Include elbow plots, dendrograms, cluster scatter plots, and training curves.\n",
    "\n",
    "Final Deliverables\n",
    "Jupyter Notebook (.ipynb) with all code and visualizations.\n",
    "\n",
    "Embedded charts for clustering and neural network training.\n",
    "\n",
    "Written report summarizing methodology, results, key findings, and practical recommendations."
   ]
  }
 ],
 "metadata": {
  "kernelspec": {
   "display_name": "Python 3 (ipykernel)",
   "language": "python",
   "name": "python3"
  },
  "language_info": {
   "codemirror_mode": {
    "name": "ipython",
    "version": 3
   },
   "file_extension": ".py",
   "mimetype": "text/x-python",
   "name": "python",
   "nbconvert_exporter": "python",
   "pygments_lexer": "ipython3",
   "version": "3.13.5"
  }
 },
 "nbformat": 4,
 "nbformat_minor": 5
}
