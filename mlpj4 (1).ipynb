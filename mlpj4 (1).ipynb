{
 "cells": [
  {
   "cell_type": "code",
   "execution_count": 40,
   "id": "83880bbc-e41e-4b14-95f0-c0f5bf3cf658",
   "metadata": {},
   "outputs": [
    {
     "name": "stdout",
     "output_type": "stream",
     "text": [
      "<class 'pandas.core.frame.DataFrame'>\n",
      "RangeIndex: 200 entries, 0 to 199\n",
      "Data columns (total 13 columns):\n",
      " #   Column                                  Non-Null Count  Dtype  \n",
      "---  ------                                  --------------  -----  \n",
      " 0   Country                                 200 non-null    object \n",
      " 1   Year                                    200 non-null    int64  \n",
      " 2   Air_Pollution_Index                     200 non-null    float64\n",
      " 3   Water_Pollution_Index                   200 non-null    float64\n",
      " 4   Soil_Pollution_Index                    200 non-null    float64\n",
      " 5   Industrial_Waste (in tons)              200 non-null    float64\n",
      " 6   Energy_Recovered (in GWh)               200 non-null    float64\n",
      " 7   CO2_Emissions (in MT)                   200 non-null    float64\n",
      " 8   Renewable_Energy (%)                    200 non-null    float64\n",
      " 9   Plastic_Waste_Produced (in tons)        200 non-null    float64\n",
      " 10  Energy_Consumption_Per_Capita (in MWh)  200 non-null    float64\n",
      " 11  Population (in millions)                200 non-null    float64\n",
      " 12  GDP_Per_Capita (in USD)                 200 non-null    float64\n",
      "dtypes: float64(11), int64(1), object(1)\n",
      "memory usage: 20.4+ KB\n",
      "None\n",
      "        Country  Year  Air_Pollution_Index  Water_Pollution_Index  \\\n",
      "0       Hungary  2005               272.70                 124.27   \n",
      "1     Singapore  2001                86.72                  60.34   \n",
      "2       Romania  2016                91.59                  83.36   \n",
      "3  Cook Islands  2018               280.61                  67.16   \n",
      "4      Djibouti  2008               179.16                 127.53   \n",
      "\n",
      "   Soil_Pollution_Index  Industrial_Waste (in tons)  \\\n",
      "0                 51.95                    94802.83   \n",
      "1                117.22                    56283.92   \n",
      "2                121.72                    56256.02   \n",
      "3                 93.58                    74864.73   \n",
      "4                121.55                    76862.06   \n",
      "\n",
      "   Energy_Recovered (in GWh)  CO2_Emissions (in MT)  Renewable_Energy (%)  \\\n",
      "0                     158.14                   5.30                 41.11   \n",
      "1                     498.04                   6.34                 36.44   \n",
      "2                     489.51                  49.69                  9.38   \n",
      "3                     145.18                   8.91                 18.97   \n",
      "4                      40.38                  14.93                 34.00   \n",
      "\n",
      "   Plastic_Waste_Produced (in tons)  Energy_Consumption_Per_Capita (in MWh)  \\\n",
      "0                          37078.88                                   12.56   \n",
      "1                          33128.20                                    5.23   \n",
      "2                          18803.46                                   13.15   \n",
      "3                           9182.27                                    0.78   \n",
      "4                          39235.12                                   12.84   \n",
      "\n",
      "   Population (in millions)  GDP_Per_Capita (in USD)  \n",
      "0                     42.22                 20972.96  \n",
      "1                    137.25                 34850.41  \n",
      "2                    124.47                 57773.15  \n",
      "3                     67.80                 21837.51  \n",
      "4                    186.52                 41379.37  \n"
     ]
    }
   ],
   "source": [
    "import pandas as pd\n",
    "import numpy as np\n",
    "\n",
    "# Load your data (update the path to your local file or use gdown for Google Drive)\n",
    "file_path = r\"C:\\Users\\kunal\\Downloads\\Global_Pollution_Analysis.csv\"\n",
    "df = pd.read_csv(file_path)\n",
    "\n",
    "# First look at the data\n",
    "print(df.info())\n",
    "print(df.head())\n"
   ]
  },
  {
   "cell_type": "code",
   "execution_count": 41,
   "id": "d119273c-8760-4d6e-8b78-ef882b833caa",
   "metadata": {},
   "outputs": [
    {
     "name": "stdout",
     "output_type": "stream",
     "text": [
      "Country                                   0\n",
      "Year                                      0\n",
      "Air_Pollution_Index                       0\n",
      "Water_Pollution_Index                     0\n",
      "Soil_Pollution_Index                      0\n",
      "Industrial_Waste (in tons)                0\n",
      "Energy_Recovered (in GWh)                 0\n",
      "CO2_Emissions (in MT)                     0\n",
      "Renewable_Energy (%)                      0\n",
      "Plastic_Waste_Produced (in tons)          0\n",
      "Energy_Consumption_Per_Capita (in MWh)    0\n",
      "Population (in millions)                  0\n",
      "GDP_Per_Capita (in USD)                   0\n",
      "dtype: int64\n"
     ]
    },
    {
     "name": "stderr",
     "output_type": "stream",
     "text": [
      "C:\\Users\\kunal\\AppData\\Local\\Temp\\ipykernel_2532\\3110566847.py:6: FutureWarning: A value is trying to be set on a copy of a DataFrame or Series through chained assignment using an inplace method.\n",
      "The behavior will change in pandas 3.0. This inplace method will never work because the intermediate object on which we are setting values always behaves as a copy.\n",
      "\n",
      "For example, when doing 'df[col].method(value, inplace=True)', try using 'df.method({col: value}, inplace=True)' or df[col] = df[col].method(value) instead, to perform the operation inplace on the original object.\n",
      "\n",
      "\n",
      "  df[col].fillna(df[col].median(), inplace=True)\n",
      "C:\\Users\\kunal\\AppData\\Local\\Temp\\ipykernel_2532\\3110566847.py:8: FutureWarning: A value is trying to be set on a copy of a DataFrame or Series through chained assignment using an inplace method.\n",
      "The behavior will change in pandas 3.0. This inplace method will never work because the intermediate object on which we are setting values always behaves as a copy.\n",
      "\n",
      "For example, when doing 'df[col].method(value, inplace=True)', try using 'df.method({col: value}, inplace=True)' or df[col] = df[col].method(value) instead, to perform the operation inplace on the original object.\n",
      "\n",
      "\n",
      "  df[col].fillna(df[col].mode()[0], inplace=True)\n"
     ]
    }
   ],
   "source": [
    "# Identify missing data\n",
    "print(df.isnull().sum())\n",
    "\n",
    "# Impute numerical columns with median, categorical with mode\n",
    "for col in df.select_dtypes(include=np.number).columns:\n",
    "    df[col].fillna(df[col].median(), inplace=True)\n",
    "for col in df.select_dtypes(include=object).columns:\n",
    "    df[col].fillna(df[col].mode()[0], inplace=True)\n",
    "\n",
    "# Outlier handling (example: clip values at 1st and 99th percentile)\n",
    "numerical_cols = df.select_dtypes(include=np.number).columns\n",
    "for col in numerical_cols:\n",
    "    q01 = df[col].quantile(0.01)\n",
    "    q99 = df[col].quantile(0.99)\n",
    "    df[col] = np.clip(df[col], q01, q99)\n"
   ]
  },
  {
   "cell_type": "code",
   "execution_count": 42,
   "id": "951561b6-9186-43aa-bffd-1890fab7d207",
   "metadata": {},
   "outputs": [
    {
     "ename": "KeyError",
     "evalue": "\"None of [Index(['CO2_emissions', 'industrial_waste'], dtype='object')] are in the [columns]\"",
     "output_type": "error",
     "traceback": [
      "\u001b[1;31m---------------------------------------------------------------------------\u001b[0m",
      "\u001b[1;31mKeyError\u001b[0m                                  Traceback (most recent call last)",
      "Cell \u001b[1;32mIn[42], line 5\u001b[0m\n\u001b[0;32m      3\u001b[0m cols_to_scale \u001b[38;5;241m=\u001b[39m [\u001b[38;5;124m'\u001b[39m\u001b[38;5;124mCO2_emissions\u001b[39m\u001b[38;5;124m'\u001b[39m, \u001b[38;5;124m'\u001b[39m\u001b[38;5;124mindustrial_waste\u001b[39m\u001b[38;5;124m'\u001b[39m]  \u001b[38;5;66;03m# Update as per your columns\u001b[39;00m\n\u001b[0;32m      4\u001b[0m scaler \u001b[38;5;241m=\u001b[39m StandardScaler()\n\u001b[1;32m----> 5\u001b[0m df[cols_to_scale] \u001b[38;5;241m=\u001b[39m scaler\u001b[38;5;241m.\u001b[39mfit_transform(df[cols_to_scale])\n",
      "File \u001b[1;32m~\\anaconda3\\Lib\\site-packages\\pandas\\core\\frame.py:4108\u001b[0m, in \u001b[0;36mDataFrame.__getitem__\u001b[1;34m(self, key)\u001b[0m\n\u001b[0;32m   4106\u001b[0m     \u001b[38;5;28;01mif\u001b[39;00m is_iterator(key):\n\u001b[0;32m   4107\u001b[0m         key \u001b[38;5;241m=\u001b[39m \u001b[38;5;28mlist\u001b[39m(key)\n\u001b[1;32m-> 4108\u001b[0m     indexer \u001b[38;5;241m=\u001b[39m \u001b[38;5;28mself\u001b[39m\u001b[38;5;241m.\u001b[39mcolumns\u001b[38;5;241m.\u001b[39m_get_indexer_strict(key, \u001b[38;5;124m\"\u001b[39m\u001b[38;5;124mcolumns\u001b[39m\u001b[38;5;124m\"\u001b[39m)[\u001b[38;5;241m1\u001b[39m]\n\u001b[0;32m   4110\u001b[0m \u001b[38;5;66;03m# take() does not accept boolean indexers\u001b[39;00m\n\u001b[0;32m   4111\u001b[0m \u001b[38;5;28;01mif\u001b[39;00m \u001b[38;5;28mgetattr\u001b[39m(indexer, \u001b[38;5;124m\"\u001b[39m\u001b[38;5;124mdtype\u001b[39m\u001b[38;5;124m\"\u001b[39m, \u001b[38;5;28;01mNone\u001b[39;00m) \u001b[38;5;241m==\u001b[39m \u001b[38;5;28mbool\u001b[39m:\n",
      "File \u001b[1;32m~\\anaconda3\\Lib\\site-packages\\pandas\\core\\indexes\\base.py:6200\u001b[0m, in \u001b[0;36mIndex._get_indexer_strict\u001b[1;34m(self, key, axis_name)\u001b[0m\n\u001b[0;32m   6197\u001b[0m \u001b[38;5;28;01melse\u001b[39;00m:\n\u001b[0;32m   6198\u001b[0m     keyarr, indexer, new_indexer \u001b[38;5;241m=\u001b[39m \u001b[38;5;28mself\u001b[39m\u001b[38;5;241m.\u001b[39m_reindex_non_unique(keyarr)\n\u001b[1;32m-> 6200\u001b[0m \u001b[38;5;28mself\u001b[39m\u001b[38;5;241m.\u001b[39m_raise_if_missing(keyarr, indexer, axis_name)\n\u001b[0;32m   6202\u001b[0m keyarr \u001b[38;5;241m=\u001b[39m \u001b[38;5;28mself\u001b[39m\u001b[38;5;241m.\u001b[39mtake(indexer)\n\u001b[0;32m   6203\u001b[0m \u001b[38;5;28;01mif\u001b[39;00m \u001b[38;5;28misinstance\u001b[39m(key, Index):\n\u001b[0;32m   6204\u001b[0m     \u001b[38;5;66;03m# GH 42790 - Preserve name from an Index\u001b[39;00m\n",
      "File \u001b[1;32m~\\anaconda3\\Lib\\site-packages\\pandas\\core\\indexes\\base.py:6249\u001b[0m, in \u001b[0;36mIndex._raise_if_missing\u001b[1;34m(self, key, indexer, axis_name)\u001b[0m\n\u001b[0;32m   6247\u001b[0m \u001b[38;5;28;01mif\u001b[39;00m nmissing:\n\u001b[0;32m   6248\u001b[0m     \u001b[38;5;28;01mif\u001b[39;00m nmissing \u001b[38;5;241m==\u001b[39m \u001b[38;5;28mlen\u001b[39m(indexer):\n\u001b[1;32m-> 6249\u001b[0m         \u001b[38;5;28;01mraise\u001b[39;00m \u001b[38;5;167;01mKeyError\u001b[39;00m(\u001b[38;5;124mf\u001b[39m\u001b[38;5;124m\"\u001b[39m\u001b[38;5;124mNone of [\u001b[39m\u001b[38;5;132;01m{\u001b[39;00mkey\u001b[38;5;132;01m}\u001b[39;00m\u001b[38;5;124m] are in the [\u001b[39m\u001b[38;5;132;01m{\u001b[39;00maxis_name\u001b[38;5;132;01m}\u001b[39;00m\u001b[38;5;124m]\u001b[39m\u001b[38;5;124m\"\u001b[39m)\n\u001b[0;32m   6251\u001b[0m     not_found \u001b[38;5;241m=\u001b[39m \u001b[38;5;28mlist\u001b[39m(ensure_index(key)[missing_mask\u001b[38;5;241m.\u001b[39mnonzero()[\u001b[38;5;241m0\u001b[39m]]\u001b[38;5;241m.\u001b[39munique())\n\u001b[0;32m   6252\u001b[0m     \u001b[38;5;28;01mraise\u001b[39;00m \u001b[38;5;167;01mKeyError\u001b[39;00m(\u001b[38;5;124mf\u001b[39m\u001b[38;5;124m\"\u001b[39m\u001b[38;5;132;01m{\u001b[39;00mnot_found\u001b[38;5;132;01m}\u001b[39;00m\u001b[38;5;124m not in index\u001b[39m\u001b[38;5;124m\"\u001b[39m)\n",
      "\u001b[1;31mKeyError\u001b[0m: \"None of [Index(['CO2_emissions', 'industrial_waste'], dtype='object')] are in the [columns]\""
     ]
    }
   ],
   "source": [
    "from sklearn.preprocessing import StandardScaler\n",
    "\n",
    "cols_to_scale = ['CO2_emissions', 'industrial_waste']  # Update as per your columns\n",
    "scaler = StandardScaler()\n",
    "df[cols_to_scale] = scaler.fit_transform(df[cols_to_scale])\n"
   ]
  },
  {
   "cell_type": "code",
   "execution_count": null,
   "id": "5f39ccb7-283d-4aa2-af53-923bf4879f84",
   "metadata": {},
   "outputs": [],
   "source": [
    "from sklearn.preprocessing import LabelEncoder\n",
    "\n",
    "for col in ['country', 'year']:  # Update with your categorical columns\n",
    "    le = LabelEncoder()\n",
    "    df[col] = le.fit_transform(df[col])\n"
   ]
  },
  {
   "cell_type": "code",
   "execution_count": 43,
   "id": "e0bc0764-d19c-45fe-852b-d17d44079966",
   "metadata": {},
   "outputs": [
    {
     "ename": "KeyError",
     "evalue": "'energy_consumption'",
     "output_type": "error",
     "traceback": [
      "\u001b[1;31m---------------------------------------------------------------------------\u001b[0m",
      "\u001b[1;31mKeyError\u001b[0m                                  Traceback (most recent call last)",
      "File \u001b[1;32m~\\anaconda3\\Lib\\site-packages\\pandas\\core\\indexes\\base.py:3805\u001b[0m, in \u001b[0;36mIndex.get_loc\u001b[1;34m(self, key)\u001b[0m\n\u001b[0;32m   3804\u001b[0m \u001b[38;5;28;01mtry\u001b[39;00m:\n\u001b[1;32m-> 3805\u001b[0m     \u001b[38;5;28;01mreturn\u001b[39;00m \u001b[38;5;28mself\u001b[39m\u001b[38;5;241m.\u001b[39m_engine\u001b[38;5;241m.\u001b[39mget_loc(casted_key)\n\u001b[0;32m   3806\u001b[0m \u001b[38;5;28;01mexcept\u001b[39;00m \u001b[38;5;167;01mKeyError\u001b[39;00m \u001b[38;5;28;01mas\u001b[39;00m err:\n",
      "File \u001b[1;32mindex.pyx:167\u001b[0m, in \u001b[0;36mpandas._libs.index.IndexEngine.get_loc\u001b[1;34m()\u001b[0m\n",
      "File \u001b[1;32mindex.pyx:196\u001b[0m, in \u001b[0;36mpandas._libs.index.IndexEngine.get_loc\u001b[1;34m()\u001b[0m\n",
      "File \u001b[1;32mpandas\\\\_libs\\\\hashtable_class_helper.pxi:7081\u001b[0m, in \u001b[0;36mpandas._libs.hashtable.PyObjectHashTable.get_item\u001b[1;34m()\u001b[0m\n",
      "File \u001b[1;32mpandas\\\\_libs\\\\hashtable_class_helper.pxi:7089\u001b[0m, in \u001b[0;36mpandas._libs.hashtable.PyObjectHashTable.get_item\u001b[1;34m()\u001b[0m\n",
      "\u001b[1;31mKeyError\u001b[0m: 'energy_consumption'",
      "\nThe above exception was the direct cause of the following exception:\n",
      "\u001b[1;31mKeyError\u001b[0m                                  Traceback (most recent call last)",
      "Cell \u001b[1;32mIn[43], line 2\u001b[0m\n\u001b[0;32m      1\u001b[0m \u001b[38;5;66;03m# Example: Energy consumption per capita\u001b[39;00m\n\u001b[1;32m----> 2\u001b[0m df[\u001b[38;5;124m'\u001b[39m\u001b[38;5;124menergy_per_capita\u001b[39m\u001b[38;5;124m'\u001b[39m] \u001b[38;5;241m=\u001b[39m df[\u001b[38;5;124m'\u001b[39m\u001b[38;5;124menergy_consumption\u001b[39m\u001b[38;5;124m'\u001b[39m] \u001b[38;5;241m/\u001b[39m df[\u001b[38;5;124m'\u001b[39m\u001b[38;5;124mpopulation\u001b[39m\u001b[38;5;124m'\u001b[39m]\n\u001b[0;32m      4\u001b[0m \u001b[38;5;66;03m# Example: Yearly pollution trend (difference from previous year)\u001b[39;00m\n\u001b[0;32m      5\u001b[0m df\u001b[38;5;241m.\u001b[39msort_values([\u001b[38;5;124m'\u001b[39m\u001b[38;5;124mcountry\u001b[39m\u001b[38;5;124m'\u001b[39m, \u001b[38;5;124m'\u001b[39m\u001b[38;5;124myear\u001b[39m\u001b[38;5;124m'\u001b[39m], inplace\u001b[38;5;241m=\u001b[39m\u001b[38;5;28;01mTrue\u001b[39;00m)\n",
      "File \u001b[1;32m~\\anaconda3\\Lib\\site-packages\\pandas\\core\\frame.py:4102\u001b[0m, in \u001b[0;36mDataFrame.__getitem__\u001b[1;34m(self, key)\u001b[0m\n\u001b[0;32m   4100\u001b[0m \u001b[38;5;28;01mif\u001b[39;00m \u001b[38;5;28mself\u001b[39m\u001b[38;5;241m.\u001b[39mcolumns\u001b[38;5;241m.\u001b[39mnlevels \u001b[38;5;241m>\u001b[39m \u001b[38;5;241m1\u001b[39m:\n\u001b[0;32m   4101\u001b[0m     \u001b[38;5;28;01mreturn\u001b[39;00m \u001b[38;5;28mself\u001b[39m\u001b[38;5;241m.\u001b[39m_getitem_multilevel(key)\n\u001b[1;32m-> 4102\u001b[0m indexer \u001b[38;5;241m=\u001b[39m \u001b[38;5;28mself\u001b[39m\u001b[38;5;241m.\u001b[39mcolumns\u001b[38;5;241m.\u001b[39mget_loc(key)\n\u001b[0;32m   4103\u001b[0m \u001b[38;5;28;01mif\u001b[39;00m is_integer(indexer):\n\u001b[0;32m   4104\u001b[0m     indexer \u001b[38;5;241m=\u001b[39m [indexer]\n",
      "File \u001b[1;32m~\\anaconda3\\Lib\\site-packages\\pandas\\core\\indexes\\base.py:3812\u001b[0m, in \u001b[0;36mIndex.get_loc\u001b[1;34m(self, key)\u001b[0m\n\u001b[0;32m   3807\u001b[0m     \u001b[38;5;28;01mif\u001b[39;00m \u001b[38;5;28misinstance\u001b[39m(casted_key, \u001b[38;5;28mslice\u001b[39m) \u001b[38;5;129;01mor\u001b[39;00m (\n\u001b[0;32m   3808\u001b[0m         \u001b[38;5;28misinstance\u001b[39m(casted_key, abc\u001b[38;5;241m.\u001b[39mIterable)\n\u001b[0;32m   3809\u001b[0m         \u001b[38;5;129;01mand\u001b[39;00m \u001b[38;5;28many\u001b[39m(\u001b[38;5;28misinstance\u001b[39m(x, \u001b[38;5;28mslice\u001b[39m) \u001b[38;5;28;01mfor\u001b[39;00m x \u001b[38;5;129;01min\u001b[39;00m casted_key)\n\u001b[0;32m   3810\u001b[0m     ):\n\u001b[0;32m   3811\u001b[0m         \u001b[38;5;28;01mraise\u001b[39;00m InvalidIndexError(key)\n\u001b[1;32m-> 3812\u001b[0m     \u001b[38;5;28;01mraise\u001b[39;00m \u001b[38;5;167;01mKeyError\u001b[39;00m(key) \u001b[38;5;28;01mfrom\u001b[39;00m\u001b[38;5;250m \u001b[39m\u001b[38;5;21;01merr\u001b[39;00m\n\u001b[0;32m   3813\u001b[0m \u001b[38;5;28;01mexcept\u001b[39;00m \u001b[38;5;167;01mTypeError\u001b[39;00m:\n\u001b[0;32m   3814\u001b[0m     \u001b[38;5;66;03m# If we have a listlike key, _check_indexing_error will raise\u001b[39;00m\n\u001b[0;32m   3815\u001b[0m     \u001b[38;5;66;03m#  InvalidIndexError. Otherwise we fall through and re-raise\u001b[39;00m\n\u001b[0;32m   3816\u001b[0m     \u001b[38;5;66;03m#  the TypeError.\u001b[39;00m\n\u001b[0;32m   3817\u001b[0m     \u001b[38;5;28mself\u001b[39m\u001b[38;5;241m.\u001b[39m_check_indexing_error(key)\n",
      "\u001b[1;31mKeyError\u001b[0m: 'energy_consumption'"
     ]
    }
   ],
   "source": [
    "# Example: Energy consumption per capita\n",
    "df['energy_per_capita'] = df['energy_consumption'] / df['population']\n",
    "\n",
    "# Example: Yearly pollution trend (difference from previous year)\n",
    "df.sort_values(['country', 'year'], inplace=True)\n",
    "df['yearly_pollution_trend'] = df.groupby('country')['CO2_emissions'].diff().fillna(0)\n"
   ]
  },
  {
   "cell_type": "code",
   "execution_count": null,
   "id": "7e2f1e61-acbe-4596-8233-497468dbea4c",
   "metadata": {},
   "outputs": [],
   "source": [
    "pollution_features = ['air_pollution_index', 'water_pollution_index', 'soil_pollution_index']\n",
    "df[pollution_features] = scaler.fit_transform(df[pollution_features])\n"
   ]
  },
  {
   "cell_type": "code",
   "execution_count": null,
   "id": "77d8f4d8-b674-4d78-8c32-c51e656c28c0",
   "metadata": {},
   "outputs": [],
   "source": [
    "# Suppose 'pollution_severity' is already in the data, otherwise create it:\n",
    "# For demonstration, categorize by quantiles\n",
    "df['pollution_severity'] = pd.qcut(df['CO2_emissions'], q=3, labels=['Low', 'Medium', 'High'])\n"
   ]
  },
  {
   "cell_type": "code",
   "execution_count": null,
   "id": "72583ae3-f0e0-4bce-9a04-1fe6962636a5",
   "metadata": {},
   "outputs": [],
   "source": [
    "from sklearn.model_selection import train_test_split\n",
    "\n",
    "features = ['CO2_emissions', 'industrial_waste', 'energy_per_capita', 'air_pollution_index', 'water_pollution_index', 'soil_pollution_index', 'yearly_pollution_trend']\n",
    "X = df[features]\n",
    "y = df['pollution_severity']\n",
    "\n",
    "X_train, X_test, y_train, y_test = train_test_split(X, y, test_size=0.2, random_state=42, stratify=y)\n"
   ]
  },
  {
   "cell_type": "code",
   "execution_count": null,
   "id": "0e3aea4b-fe95-4c1a-8abd-50503c535734",
   "metadata": {},
   "outputs": [],
   "source": [
    "from sklearn.naive_bayes import MultinomialNB\n",
    "from sklearn.metrics import classification_report, confusion_matrix\n",
    "\n",
    "nb = MultinomialNB()\n",
    "y_pred_nb = nb.fit(X_train, y_train).predict(X_test)\n",
    "\n",
    "print(\"Naive Bayes Classification Report:\\n\", classification_report(y_test, y_pred_nb))\n",
    "print(\"Naive Bayes Confusion Matrix:\\n\", confusion_matrix(y_test, y_pred_nb))\n"
   ]
  },
  {
   "cell_type": "code",
   "execution_count": null,
   "id": "3a01c4a1-9878-4905-abce-ec9b307aa7b6",
   "metadata": {},
   "outputs": [],
   "source": [
    "from sklearn.neighbors import KNeighborsClassifier\n",
    "from sklearn.model_selection import GridSearchCV\n",
    "\n",
    "param_grid = {'n_neighbors': range(3, 16)}\n",
    "knn = KNeighborsClassifier()\n",
    "grid = GridSearchCV(knn, param_grid, cv=5, scoring='f1_macro')\n",
    "grid.fit(X_train, y_train)\n",
    "knn_best = grid.best_estimator_\n",
    "y_pred_knn = knn_best.predict(X_test)\n",
    "\n",
    "print(\"Best K for KNN:\", grid.best_params_)\n",
    "print(\"KNN Classification Report:\\n\", classification_report(y_test, y_pred_knn))\n",
    "print(\"KNN Confusion Matrix:\\n\", confusion_matrix(y_test, y_pred_knn))\n"
   ]
  },
  {
   "cell_type": "code",
   "execution_count": null,
   "id": "dae98a8a-c61b-4ea0-ae60-d67806c11d7c",
   "metadata": {},
   "outputs": [],
   "source": [
    "from sklearn.tree import DecisionTreeClassifier\n",
    "\n",
    "param_grid = {'max_depth': [4, 6, 8, 10], 'min_samples_split': [2, 5, 10]}\n",
    "dt = DecisionTreeClassifier(random_state=42)\n",
    "grid_dt = GridSearchCV(dt, param_grid, cv=5, scoring='f1_macro')\n",
    "grid_dt.fit(X_train, y_train)\n",
    "dt_best = grid_dt.best_estimator_\n",
    "y_pred_dt = dt_best.predict(X_test)\n",
    "\n",
    "print(\"Best Params for DT:\", grid_dt.best_params_)\n",
    "print(\"DT Classification Report:\\n\", classification_report(y_test, y_pred_dt))\n",
    "print(\"DT Confusion Matrix:\\n\", confusion_matrix(y_test, y_pred_dt))\n"
   ]
  },
  {
   "cell_type": "code",
   "execution_count": null,
   "id": "9fd4fcf5-3c79-4dc2-b242-4695c1251be1",
   "metadata": {},
   "outputs": [],
   "source": [
    "from sklearn.metrics import accuracy_score, precision_score, recall_score, f1_score\n",
    "\n",
    "comparison = pd.DataFrame({\n",
    "    'Model': ['Multinomial NB', 'KNN', 'Decision Tree'],\n",
    "    'Accuracy': [\n",
    "        accuracy_score(y_test, y_pred_nb),\n",
    "        accuracy_score(y_test, y_pred_knn),\n",
    "        accuracy_score(y_test, y_pred_dt)\n",
    "    ],\n",
    "    'Macro Precision': [\n",
    "        precision_score(y_test, y_pred_nb, average='macro'),\n",
    "        precision_score(y_test, y_pred_knn, average='macro'),\n",
    "        precision_score(y_test, y_pred_dt, average='macro'),\n",
    "    ],\n",
    "    'Macro Recall': [\n",
    "        recall_score(y_test, y_pred_nb, average='macro'),\n",
    "        recall_score(y_test, y_pred_knn, average='macro'),\n",
    "        recall_score(y_test, y_pred_dt, average='macro'),\n",
    "    ],\n",
    "    'Macro F1': [\n",
    "        f1_score(y_test, y_pred_nb, average='macro'),\n",
    "        f1_score(y_test, y_pred_knn, average='macro'),\n",
    "        f1_score(y_test, y_pred_dt, average='macro'),\n",
    "    ]\n",
    "})\n",
    "\n",
    "print(comparison)\n"
   ]
  }
 ],
 "metadata": {
  "kernelspec": {
   "display_name": "Python 3 (ipykernel)",
   "language": "python",
   "name": "python3"
  },
  "language_info": {
   "codemirror_mode": {
    "name": "ipython",
    "version": 3
   },
   "file_extension": ".py",
   "mimetype": "text/x-python",
   "name": "python",
   "nbconvert_exporter": "python",
   "pygments_lexer": "ipython3",
   "version": "3.13.5"
  }
 },
 "nbformat": 4,
 "nbformat_minor": 5
}
