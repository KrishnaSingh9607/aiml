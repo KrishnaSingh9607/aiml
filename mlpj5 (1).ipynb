{
 "cells": [
  {
   "cell_type": "code",
   "execution_count": 48,
   "id": "cbb6567e-0067-425f-9b8f-110114328fda",
   "metadata": {},
   "outputs": [
    {
     "name": "stdout",
     "output_type": "stream",
     "text": [
      "<class 'pandas.core.frame.DataFrame'>\n",
      "RangeIndex: 200 entries, 0 to 199\n",
      "Data columns (total 15 columns):\n",
      " #   Column                      Non-Null Count  Dtype  \n",
      "---  ------                      --------------  -----  \n",
      " 0   Order_ID                    200 non-null    object \n",
      " 1   Customer_Location           200 non-null    object \n",
      " 2   Restaurant_Location         200 non-null    object \n",
      " 3   Distance                    200 non-null    float64\n",
      " 4   Weather_Conditions          200 non-null    object \n",
      " 5   Traffic_Conditions          200 non-null    object \n",
      " 6   Delivery_Person_Experience  200 non-null    int64  \n",
      " 7   Order_Priority              200 non-null    object \n",
      " 8   Order_Time                  200 non-null    object \n",
      " 9   Vehicle_Type                200 non-null    object \n",
      " 10  Restaurant_Rating           200 non-null    float64\n",
      " 11  Customer_Rating             200 non-null    float64\n",
      " 12  Delivery_Time               200 non-null    float64\n",
      " 13  Order_Cost                  200 non-null    float64\n",
      " 14  Tip_Amount                  200 non-null    float64\n",
      "dtypes: float64(6), int64(1), object(8)\n",
      "memory usage: 23.6+ KB\n",
      "None\n",
      "  Order_ID       Customer_Location     Restaurant_Location  Distance  \\\n",
      "0  ORD0001  (17.030479, 79.743077)  (12.358515, 85.100083)      1.57   \n",
      "1  ORD0002  (15.398319, 86.639122)  (14.174874, 77.025606)     21.32   \n",
      "2  ORD0003  (15.687342, 83.888808)  (19.594748, 82.048482)      6.95   \n",
      "3  ORD0004  (20.415599, 78.046984)  (16.915906, 78.278698)     13.79   \n",
      "4  ORD0005  (14.786904, 78.706532)  (15.206038, 86.203182)      6.72   \n",
      "\n",
      "  Weather_Conditions Traffic_Conditions  Delivery_Person_Experience  \\\n",
      "0              Rainy             Medium                           4   \n",
      "1             Cloudy             Medium                           8   \n",
      "2              Snowy             Medium                           9   \n",
      "3             Cloudy                Low                           2   \n",
      "4              Rainy               High                           6   \n",
      "\n",
      "  Order_Priority Order_Time Vehicle_Type  Restaurant_Rating  Customer_Rating  \\\n",
      "0         Medium  Afternoon          Car                4.1              3.0   \n",
      "1            Low      Night          Car                4.5              4.2   \n",
      "2           High      Night         Bike                3.3              3.4   \n",
      "3         Medium    Evening         Bike                3.2              3.7   \n",
      "4            Low      Night         Bike                3.5              2.8   \n",
      "\n",
      "   Delivery_Time  Order_Cost  Tip_Amount  \n",
      "0          26.22     1321.10       81.54  \n",
      "1          62.61      152.21       29.02  \n",
      "2          48.43     1644.38       64.17  \n",
      "3         111.63      541.25       79.23  \n",
      "4          32.38      619.81        2.34  \n"
     ]
    },
    {
     "name": "stderr",
     "output_type": "stream",
     "text": [
      "C:\\Users\\kunal\\AppData\\Local\\Temp\\ipykernel_2532\\446243343.py:14: FutureWarning: A value is trying to be set on a copy of a DataFrame or Series through chained assignment using an inplace method.\n",
      "The behavior will change in pandas 3.0. This inplace method will never work because the intermediate object on which we are setting values always behaves as a copy.\n",
      "\n",
      "For example, when doing 'df[col].method(value, inplace=True)', try using 'df.method({col: value}, inplace=True)' or df[col] = df[col].method(value) instead, to perform the operation inplace on the original object.\n",
      "\n",
      "\n",
      "  df[col].fillna(df[col].median(), inplace=True)\n",
      "C:\\Users\\kunal\\AppData\\Local\\Temp\\ipykernel_2532\\446243343.py:16: FutureWarning: A value is trying to be set on a copy of a DataFrame or Series through chained assignment using an inplace method.\n",
      "The behavior will change in pandas 3.0. This inplace method will never work because the intermediate object on which we are setting values always behaves as a copy.\n",
      "\n",
      "For example, when doing 'df[col].method(value, inplace=True)', try using 'df.method({col: value}, inplace=True)' or df[col] = df[col].method(value) instead, to perform the operation inplace on the original object.\n",
      "\n",
      "\n",
      "  df[col].fillna(df[col].mode()[0], inplace=True)\n"
     ]
    }
   ],
   "source": [
    "import pandas as pd\n",
    "import numpy as np\n",
    "\n",
    "# Load the dataset\n",
    "file_path = r\"C:\\Users\\kunal\\Downloads\\Food_Delivery_Time_Prediction.csv\"\n",
    "df = pd.read_csv(file_path)\n",
    "\n",
    "# Inspect dataset\n",
    "print(df.info())\n",
    "print(df.head())\n",
    "\n",
    "# Handle missing values\n",
    "for col in df.select_dtypes(include=np.number).columns:\n",
    "    df[col].fillna(df[col].median(), inplace=True)\n",
    "for col in df.select_dtypes(include='object').columns:\n",
    "    df[col].fillna(df[col].mode()[0], inplace=True)\n"
   ]
  },
  {
   "cell_type": "code",
   "execution_count": null,
   "id": "cedb0dda-0cd8-409a-8209-478de74bcc2c",
   "metadata": {},
   "outputs": [],
   "source": [
    "from sklearn.preprocessing import OneHotEncoder, LabelEncoder\n",
    "\n",
    "# One-Hot Encoding for nominal categories\n",
    "df = pd.get_dummies(df, columns=['weather', 'traffic', 'vehicle_type'])\n",
    "\n",
    "# Label encode target variable\n",
    "le = LabelEncoder()\n",
    "df['delivery_status'] = le.fit_transform(df['delivery_status'])  # 0 = Fast, 1 = Delayed\n"
   ]
  },
  {
   "cell_type": "code",
   "execution_count": null,
   "id": "bf96a1c7-ee0c-4cb4-8205-d6d09a89a0b8",
   "metadata": {},
   "outputs": [],
   "source": [
    "def haversine(lat1, lon1, lat2, lon2):\n",
    "    R = 6371  # Earth radius in km\n",
    "    lat1_rad, lon1_rad, lat2_rad, lon2_rad = np.radians([lat1, lon1, lat2, lon2])\n",
    "    dlat = lat2_rad - lat1_rad\n",
    "    dlon = lon2_rad - lon1_rad\n",
    "    a = np.sin(dlat/2) ** 2 + np.cos(lat1_rad) * np.cos(lat2_rad) * np.sin(dlon/2) ** 2\n",
    "    c = 2 * np.arcsin(np.sqrt(a))\n",
    "    return R * c\n",
    "\n",
    "df['geo_distance'] = haversine(df['restaurant_lat'], df['restaurant_lon'], df['customer_lat'], df['customer_lon'])\n"
   ]
  },
  {
   "cell_type": "code",
   "execution_count": null,
   "id": "11e5efd0-cba3-41f9-a5f1-51fe8b7bff09",
   "metadata": {},
   "outputs": [],
   "source": [
    "from sklearn.preprocessing import MinMaxScaler\n",
    "\n",
    "scaler = MinMaxScaler()\n",
    "df[['distance', 'delivery_time', 'geo_distance']] = scaler.fit_transform(df[['distance', 'delivery_time', 'geo_distance']])\n"
   ]
  },
  {
   "cell_type": "code",
   "execution_count": null,
   "id": "5e59237e-7c7b-440e-bc4c-5bf70746cbe3",
   "metadata": {},
   "outputs": [],
   "source": [
    "# Example: Rush hour binary feature based on order_time if available\n",
    "df['order_hour'] = pd.to_datetime(df['order_time']).dt.hour\n",
    "df['rush_hour'] = df['order_hour'].apply(lambda x: 1 if 7 <= x <= 9 or 17 <= x <= 20 else 0)\n"
   ]
  },
  {
   "cell_type": "code",
   "execution_count": null,
   "id": "1eb9fd28-bf3b-4815-a9f4-837d539ed609",
   "metadata": {},
   "outputs": [],
   "source": [
    "from sklearn.cluster import KMeans\n",
    "import matplotlib.pyplot as plt\n",
    "\n",
    "# Select features for clustering\n",
    "features = ['geo_distance', 'distance', 'rush_hour'] + [col for col in df.columns if col.startswith('weather_') or col.startswith('traffic_') or col.startswith('vehicle_type_')]\n",
    "X = df[features]\n",
    "\n",
    "# Elbow method to find optimal k\n",
    "inertia = []\n",
    "for k in range(1, 11):\n",
    "    kmeans = KMeans(n_clusters=k, random_state=42)\n",
    "    kmeans.fit(X)\n",
    "    inertia.append(kmeans.inertia_)\n",
    "\n",
    "plt.plot(range(1, 11), inertia, marker='o')\n",
    "plt.title('Elbow Method for Optimal K')\n",
    "plt.xlabel('Number of clusters')\n",
    "plt.ylabel('Inertia')\n",
    "plt.show()\n",
    "\n",
    "# Fit KMeans with optimal clusters, e.g., k=3\n",
    "kmeans = KMeans(n_clusters=3, random_state=42)\n",
    "df['cluster_kmeans'] = kmeans.fit_predict(X)\n"
   ]
  },
  {
   "cell_type": "code",
   "execution_count": null,
   "id": "27a74a9c-c18f-42b6-bacc-dcbbbc63fa07",
   "metadata": {},
   "outputs": [],
   "source": [
    "from scipy.cluster.hierarchy import dendrogram, linkage\n",
    "import matplotlib.pyplot as plt\n",
    "\n",
    "linked = linkage(X.sample(500, random_state=42), method='ward')  # sample if dataset is large\n",
    "\n",
    "plt.figure(figsize=(10, 7))\n",
    "dendrogram(linked, orientation='top', distance_sort='descending', show_leaf_counts=True)\n",
    "plt.title('Hierarchical Clustering Dendrogram')\n",
    "plt.show()\n",
    "\n",
    "from sklearn.cluster import AgglomerativeClustering\n",
    "agg = AgglomerativeClustering(n_clusters=3)\n",
    "df['cluster_hierarchical'] = agg.fit_predict(X)\n"
   ]
  },
  {
   "cell_type": "code",
   "execution_count": null,
   "id": "2b014a9e-7a1e-498b-aa8a-d77e891f87e7",
   "metadata": {},
   "outputs": [],
   "source": [
    "from sklearn.model_selection import train_test_split\n",
    "\n",
    "# Features and target\n",
    "y = df['delivery_status']\n",
    "X_nn = df[features]\n",
    "\n",
    "X_train, X_test, y_train, y_test = train_test_split(X_nn, y, test_size=0.2, random_state=42)\n"
   ]
  },
  {
   "cell_type": "code",
   "execution_count": null,
   "id": "de1855b0-da1c-4de4-ab12-115f61f5d5ed",
   "metadata": {},
   "outputs": [],
   "source": [
    "import tensorflow as tf\n",
    "from tensorflow.keras.models import Sequential\n",
    "from tensorflow.keras.layers import Dense\n",
    "\n",
    "model = Sequential([\n",
    "    Dense(32, activation='relu', input_shape=(X_train.shape[1],)),\n",
    "    Dense(16, activation='relu'),\n",
    "    Dense(1, activation='sigmoid')\n",
    "])\n",
    "\n",
    "model.compile(optimizer='adam', loss='binary_crossentropy', metrics=['accuracy'])\n",
    "history = model.fit(X_train, y_train, epochs=30, batch_size=32, validation_split=0.2)\n"
   ]
  },
  {
   "cell_type": "code",
   "execution_count": null,
   "id": "ecc3201f-1e81-4e02-bbf0-60e84e910368",
   "metadata": {},
   "outputs": [],
   "source": [
    "import matplotlib.pyplot as plt\n",
    "from sklearn.metrics import classification_report, confusion_matrix\n",
    "\n",
    "y_pred_prob = model.predict(X_test).flatten()\n",
    "y_pred = (y_pred_prob > 0.5).astype(int)\n",
    "\n",
    "print(classification_report(y_test, y_pred))\n",
    "print(confusion_matrix(y_test, y_pred))\n",
    "\n",
    "# Plot training & validation accuracy values\n",
    "plt.plot(history.history['accuracy'])\n",
    "plt.plot(history.history['val_accuracy'])\n",
    "plt.title('Model accuracy')\n",
    "plt.xlabel('Epoch')\n",
    "plt.ylabel('Accuracy')\n",
    "plt.legend(['Train', 'Validation'], loc='upper left')\n",
    "plt.show()\n"
   ]
  },
  {
   "cell_type": "code",
   "execution_count": null,
   "id": "0b178873-043c-40e3-a521-ddd352d0b0e1",
   "metadata": {},
   "outputs": [],
   "source": []
  }
 ],
 "metadata": {
  "kernelspec": {
   "display_name": "Python 3 (ipykernel)",
   "language": "python",
   "name": "python3"
  },
  "language_info": {
   "codemirror_mode": {
    "name": "ipython",
    "version": 3
   },
   "file_extension": ".py",
   "mimetype": "text/x-python",
   "name": "python",
   "nbconvert_exporter": "python",
   "pygments_lexer": "ipython3",
   "version": "3.13.5"
  }
 },
 "nbformat": 4,
 "nbformat_minor": 5
}
