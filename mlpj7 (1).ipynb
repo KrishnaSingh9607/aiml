{
 "cells": [
  {
   "cell_type": "code",
   "execution_count": 2,
   "id": "a58cb35f-bf2f-43a6-b805-233d565b6c16",
   "metadata": {},
   "outputs": [
    {
     "name": "stdout",
     "output_type": "stream",
     "text": [
      "<class 'pandas.core.frame.DataFrame'>\n",
      "RangeIndex: 200 entries, 0 to 199\n",
      "Data columns (total 15 columns):\n",
      " #   Column                      Non-Null Count  Dtype  \n",
      "---  ------                      --------------  -----  \n",
      " 0   Order_ID                    200 non-null    object \n",
      " 1   Customer_Location           200 non-null    object \n",
      " 2   Restaurant_Location         200 non-null    object \n",
      " 3   Distance                    200 non-null    float64\n",
      " 4   Weather_Conditions          200 non-null    object \n",
      " 5   Traffic_Conditions          200 non-null    object \n",
      " 6   Delivery_Person_Experience  200 non-null    int64  \n",
      " 7   Order_Priority              200 non-null    object \n",
      " 8   Order_Time                  200 non-null    object \n",
      " 9   Vehicle_Type                200 non-null    object \n",
      " 10  Restaurant_Rating           200 non-null    float64\n",
      " 11  Customer_Rating             200 non-null    float64\n",
      " 12  Delivery_Time               200 non-null    float64\n",
      " 13  Order_Cost                  200 non-null    float64\n",
      " 14  Tip_Amount                  200 non-null    float64\n",
      "dtypes: float64(6), int64(1), object(8)\n",
      "memory usage: 23.6+ KB\n",
      "None\n",
      "  Order_ID       Customer_Location     Restaurant_Location  Distance  \\\n",
      "0  ORD0001  (17.030479, 79.743077)  (12.358515, 85.100083)      1.57   \n",
      "1  ORD0002  (15.398319, 86.639122)  (14.174874, 77.025606)     21.32   \n",
      "2  ORD0003  (15.687342, 83.888808)  (19.594748, 82.048482)      6.95   \n",
      "3  ORD0004  (20.415599, 78.046984)  (16.915906, 78.278698)     13.79   \n",
      "4  ORD0005  (14.786904, 78.706532)  (15.206038, 86.203182)      6.72   \n",
      "\n",
      "  Weather_Conditions Traffic_Conditions  Delivery_Person_Experience  \\\n",
      "0              Rainy             Medium                           4   \n",
      "1             Cloudy             Medium                           8   \n",
      "2              Snowy             Medium                           9   \n",
      "3             Cloudy                Low                           2   \n",
      "4              Rainy               High                           6   \n",
      "\n",
      "  Order_Priority Order_Time Vehicle_Type  Restaurant_Rating  Customer_Rating  \\\n",
      "0         Medium  Afternoon          Car                4.1              3.0   \n",
      "1            Low      Night          Car                4.5              4.2   \n",
      "2           High      Night         Bike                3.3              3.4   \n",
      "3         Medium    Evening         Bike                3.2              3.7   \n",
      "4            Low      Night         Bike                3.5              2.8   \n",
      "\n",
      "   Delivery_Time  Order_Cost  Tip_Amount  \n",
      "0          26.22     1321.10       81.54  \n",
      "1          62.61      152.21       29.02  \n",
      "2          48.43     1644.38       64.17  \n",
      "3         111.63      541.25       79.23  \n",
      "4          32.38      619.81        2.34  \n"
     ]
    }
   ],
   "source": [
    "import pandas as pd\n",
    "\n",
    "df = pd.read_csv(r\"C:\\Users\\kunal\\Downloads\\Food_Delivery_Time_Prediction.csv\")\n",
    "print(df.info())\n",
    "print(df.head())\n"
   ]
  },
  {
   "cell_type": "code",
   "execution_count": null,
   "id": "51c51e16-f5c5-4dd5-bdaa-042c28de7ed4",
   "metadata": {},
   "outputs": [],
   "source": [
    "# Check missing data\n",
    "print(df.isnull().sum())\n",
    "\n",
    "# Fill numerical missing with mean\n",
    "for col in ['distance', 'temperature', 'humidity']:\n",
    "    df[col].fillna(df[col].mean(), inplace=True)\n",
    "\n",
    "# Fill categorical missing with mode\n",
    "for col in ['weather', 'traffic_conditions']:\n",
    "    df[col].fillna(df[col].mode()[0], inplace=True)\n"
   ]
  },
  {
   "cell_type": "code",
   "execution_count": null,
   "id": "4806f1fc-0490-48f0-b64f-78c9ea179730",
   "metadata": {},
   "outputs": [],
   "source": [
    "from sklearn.preprocessing import LabelEncoder\n",
    "\n",
    "le_weather = LabelEncoder()\n",
    "df['weather_encoded'] = le_weather.fit_transform(df['weather'])\n",
    "\n",
    "df = pd.get_dummies(df, columns=['traffic_conditions'])\n"
   ]
  },
  {
   "cell_type": "code",
   "execution_count": null,
   "id": "cc7f980a-9260-4cd9-a4c4-2739c945843c",
   "metadata": {},
   "outputs": [],
   "source": [
    "from sklearn.preprocessing import MinMaxScaler\n",
    "\n",
    "scaler = MinMaxScaler()\n",
    "numeric_cols = ['distance', 'temperature', 'humidity']\n",
    "df[numeric_cols] = scaler.fit_transform(df[numeric_cols])\n"
   ]
  },
  {
   "cell_type": "code",
   "execution_count": null,
   "id": "cc57a816-706f-42e7-a8cc-72a23597001c",
   "metadata": {},
   "outputs": [],
   "source": [
    "from haversine import haversine\n",
    "\n",
    "df['distance'] = df.apply(lambda row: haversine(\n",
    "    (row['cust_lat'], row['cust_lon']),\n",
    "    (row['rest_lat'], row['rest_lon'])\n",
    "), axis=1)\n",
    "\n",
    "\n",
    "\n",
    "df['order_hour'] = pd.to_datetime(df['order_time']).dt.hour\n",
    "df['is_rush_hour'] = df['order_hour'].apply(lambda x: 1 if (7 <= x <=9 or 17 <= x <= 20) else 0)\n"
   ]
  },
  {
   "cell_type": "code",
   "execution_count": null,
   "id": "e24f70e2-6385-4867-a996-161d45a41094",
   "metadata": {},
   "outputs": [],
   "source": [
    "import tensorflow as tf\n",
    "from tensorflow.keras.models import Sequential\n",
    "from tensorflow.keras.layers import Conv2D, MaxPooling2D, Flatten, Dense, Dropout\n",
    "\n",
    "model = Sequential([\n",
    "    Conv2D(32, (3,3), activation='relu', input_shape=(img_height, img_width, 3)),\n",
    "    MaxPooling2D(2,2),\n",
    "    Conv2D(64, (3,3), activation='relu'),\n",
    "    MaxPooling2D(2,2),\n",
    "    Flatten(),\n",
    "    Dense(128, activation='relu'),\n",
    "    Dropout(0.5),\n",
    "    Dense(1, activation='sigmoid')  # Binary classification output\n",
    "])\n",
    "\n",
    "model.compile(optimizer='adam', loss='binary_crossentropy', metrics=['accuracy'])\n",
    "\n",
    "\n",
    "\n",
    "\n",
    "history = model.fit(train_data, epochs=20, validation_data=val_data)\n"
   ]
  },
  {
   "cell_type": "code",
   "execution_count": null,
   "id": "2f194df6-b3f2-41e5-bbf2-7d8e676cac31",
   "metadata": {},
   "outputs": [],
   "source": [
    "from sklearn.model_selection import KFold\n",
    "\n",
    "kf = KFold(n_splits=5, shuffle=True, random_state=42)\n",
    "\n",
    "for train_index, val_index in kf.split(X):\n",
    "    X_train, X_val = X[train_index], X[val_index]\n",
    "    y_train, y_val = y[train_index], y[val_index]\n",
    "    # Train and evaluate model on each fold\n"
   ]
  },
  {
   "cell_type": "code",
   "execution_count": null,
   "id": "085f39c2-9cab-4f28-8ca4-6a56bad42689",
   "metadata": {},
   "outputs": [],
   "source": []
  }
 ],
 "metadata": {
  "kernelspec": {
   "display_name": "Python 3 (ipykernel)",
   "language": "python",
   "name": "python3"
  },
  "language_info": {
   "codemirror_mode": {
    "name": "ipython",
    "version": 3
   },
   "file_extension": ".py",
   "mimetype": "text/x-python",
   "name": "python",
   "nbconvert_exporter": "python",
   "pygments_lexer": "ipython3",
   "version": "3.13.5"
  }
 },
 "nbformat": 4,
 "nbformat_minor": 5
}
