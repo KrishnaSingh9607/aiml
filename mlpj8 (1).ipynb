{
 "cells": [
  {
   "cell_type": "code",
   "execution_count": 16,
   "id": "35eee975-151d-4c06-b25c-2019e163e7d2",
   "metadata": {},
   "outputs": [
    {
     "ename": "ModuleNotFoundError",
     "evalue": "No module named 'mlxtend'",
     "output_type": "error",
     "traceback": [
      "\u001b[1;31m---------------------------------------------------------------------------\u001b[0m",
      "\u001b[1;31mModuleNotFoundError\u001b[0m                       Traceback (most recent call last)",
      "Cell \u001b[1;32mIn[16], line 4\u001b[0m\n\u001b[0;32m      2\u001b[0m \u001b[38;5;28;01mimport\u001b[39;00m\u001b[38;5;250m \u001b[39m\u001b[38;5;21;01mnumpy\u001b[39;00m\u001b[38;5;250m \u001b[39m\u001b[38;5;28;01mas\u001b[39;00m\u001b[38;5;250m \u001b[39m\u001b[38;5;21;01mnp\u001b[39;00m\n\u001b[0;32m      3\u001b[0m \u001b[38;5;28;01mfrom\u001b[39;00m\u001b[38;5;250m \u001b[39m\u001b[38;5;21;01msklearn\u001b[39;00m\u001b[38;5;21;01m.\u001b[39;00m\u001b[38;5;21;01mpreprocessing\u001b[39;00m\u001b[38;5;250m \u001b[39m\u001b[38;5;28;01mimport\u001b[39;00m LabelEncoder, MinMaxScaler\n\u001b[1;32m----> 4\u001b[0m \u001b[38;5;28;01mfrom\u001b[39;00m\u001b[38;5;250m \u001b[39m\u001b[38;5;21;01mmlxtend\u001b[39;00m\u001b[38;5;21;01m.\u001b[39;00m\u001b[38;5;21;01mpreprocessing\u001b[39;00m\u001b[38;5;250m \u001b[39m\u001b[38;5;28;01mimport\u001b[39;00m TransactionEncoder\n\u001b[0;32m      5\u001b[0m \u001b[38;5;28;01mfrom\u001b[39;00m\u001b[38;5;250m \u001b[39m\u001b[38;5;21;01mmlxtend\u001b[39;00m\u001b[38;5;21;01m.\u001b[39;00m\u001b[38;5;21;01mfrequent_patterns\u001b[39;00m\u001b[38;5;250m \u001b[39m\u001b[38;5;28;01mimport\u001b[39;00m apriori, association_rules\n\u001b[0;32m      6\u001b[0m \u001b[38;5;28;01mimport\u001b[39;00m\u001b[38;5;250m \u001b[39m\u001b[38;5;21;01mmatplotlib\u001b[39;00m\u001b[38;5;21;01m.\u001b[39;00m\u001b[38;5;21;01mpyplot\u001b[39;00m\u001b[38;5;250m \u001b[39m\u001b[38;5;28;01mas\u001b[39;00m\u001b[38;5;250m \u001b[39m\u001b[38;5;21;01mplt\u001b[39;00m\n",
      "\u001b[1;31mModuleNotFoundError\u001b[0m: No module named 'mlxtend'"
     ]
    }
   ],
   "source": [
    "import pandas as pd\n",
    "import numpy as np\n",
    "from sklearn.preprocessing import LabelEncoder, MinMaxScaler\n",
    "from mlxtend.preprocessing import TransactionEncoder\n",
    "from mlxtend.frequent_patterns import apriori, association_rules\n",
    "import matplotlib.pyplot as plt\n",
    "import seaborn as sns\n",
    "\n",
    "df = pd.read_csv(r\"C:\\Users\\kunal\\Downloads\\Global_Pollution_Analysis.csv\")  \n",
    "print(df.head())\n"
   ]
  },
  {
   "cell_type": "code",
   "execution_count": null,
   "id": "2900f4c5-055f-4574-86c2-248fc6a7e25d",
   "metadata": {},
   "outputs": [],
   "source": [
    "\n",
    "print(df.isnull().sum())\n",
    "\n",
    "\n",
    "num_cols = ['air_pollution_index', 'water_pollution_index', 'soil_pollution_index', 'energy_consumption', 'energy_recovery', 'population']\n",
    "for col in num_cols:\n",
    "    df[col].fillna(df[col].mean(), inplace=True)\n",
    "\n",
    "\n",
    "cat_cols = ['country', 'year']\n",
    "for col in cat_cols:\n",
    "    df[col].fillna(df[col].mode()[0], inplace=True)\n"
   ]
  },
  {
   "cell_type": "code",
   "execution_count": null,
   "id": "4e40eb72-54b2-422a-a19a-2e471d6086f0",
   "metadata": {},
   "outputs": [],
   "source": [
    "scaler = MinMaxScaler()\n",
    "pollution_cols = ['air_pollution_index', 'water_pollution_index', 'soil_pollution_index']\n",
    "df[pollution_cols] = scaler.fit_transform(df[pollution_cols])\n"
   ]
  },
  {
   "cell_type": "code",
   "execution_count": null,
   "id": "193db3c7-3cbc-454d-82b2-aba4fc424f45",
   "metadata": {},
   "outputs": [],
   "source": [
    "le_country = LabelEncoder()\n",
    "df['country_encoded'] = le_country.fit_transform(df['country'])\n",
    "\n",
    "le_year = LabelEncoder()\n",
    "df['year_encoded'] = le_year.fit_transform(df['year'])\n"
   ]
  },
  {
   "cell_type": "code",
   "execution_count": null,
   "id": "69ebdf68-6e84-4b2c-8dd5-cd86e123a1b1",
   "metadata": {},
   "outputs": [],
   "source": [
    "df['energy_consumption_per_capita'] = df['energy_consumption'] / df['population']\n",
    "df['energy_consumption_per_capita'].fillna(0, inplace=True) \n"
   ]
  },
  {
   "cell_type": "code",
   "execution_count": null,
   "id": "3ec25251-1815-4fa5-baf3-d80d63e6bced",
   "metadata": {},
   "outputs": [],
   "source": [
    "def categorize_pollution(val):\n",
    "    if val < 0.33:\n",
    "        return 'Low'\n",
    "    elif val < 0.66:\n",
    "        return 'Medium'\n",
    "    else:\n",
    "        return 'High'\n",
    "\n",
    "df['air_pollution_severity'] = df['air_pollution_index'].apply(categorize_pollution)\n",
    "df['water_pollution_severity'] = df['water_pollution_index'].apply(categorize_pollution)\n"
   ]
  },
  {
   "cell_type": "code",
   "execution_count": null,
   "id": "837b1ead-40d6-49ba-a8dc-f37dff904147",
   "metadata": {},
   "outputs": [],
   "source": [
    "df['energy_recovery_category'] = pd.qcut(df['energy_recovery'], q=3, labels=['Low', 'Medium', 'High'])\n"
   ]
  },
  {
   "cell_type": "code",
   "execution_count": null,
   "id": "77ea662a-aaa0-4723-8fb0-0be5391837eb",
   "metadata": {},
   "outputs": [],
   "source": [
    "\n",
    "transactions = df.apply(lambda row: [\n",
    "    'Air_Pollution_' + row['air_pollution_severity'],\n",
    "    'Water_Pollution_' + row['water_pollution_severity'],\n",
    "    'Energy_Recovery_' + str(row['energy_recovery_category'])\n",
    "], axis=1).tolist()\n",
    "\n",
    "\n",
    "te = TransactionEncoder()\n",
    "te_ary = te.fit(transactions).transform(transactions)\n",
    "df_apriori = pd.DataFrame(te_ary, columns=te.columns_)\n"
   ]
  },
  {
   "cell_type": "code",
   "execution_count": null,
   "id": "c76bd536-00f1-49b5-8427-9458bc7f9df5",
   "metadata": {},
   "outputs": [],
   "source": [
    "# Frequent Itemsets\n",
    "frequent_itemsets = apriori(df_apriori, min_support=0.1, use_colnames=True)\n",
    "print(frequent_itemsets.sort_values(by='support', ascending=False).head())\n",
    "\n",
    "# Association Rules\n",
    "rules = association_rules(frequent_itemsets, metric=\"confidence\", min_threshold=0.6)\n",
    "print(rules[['antecedents', 'consequents', 'support', 'confidence', 'lift']].sort_values(by='lift', ascending=False).head())\n"
   ]
  },
  {
   "cell_type": "code",
   "execution_count": null,
   "id": "870ea561-96e9-4ac5-af71-866d7dd21120",
   "metadata": {},
   "outputs": [],
   "source": [
    "plt.figure(figsize=(10,6))\n",
    "sns.scatterplot(data=rules, x='support', y='confidence', size='lift', legend=False, sizes=(20, 200))\n",
    "plt.title('Association Rules: Support vs Confidence (size by Lift)')\n",
    "plt.xlabel('Support')\n",
    "plt.ylabel('Confidence')\n",
    "plt.show()\n"
   ]
  },
  {
   "cell_type": "code",
   "execution_count": null,
   "id": "b6fde8da-42f6-4d48-a876-0a763638df4d",
   "metadata": {},
   "outputs": [],
   "source": []
  }
 ],
 "metadata": {
  "kernelspec": {
   "display_name": "Python 3 (ipykernel)",
   "language": "python",
   "name": "python3"
  },
  "language_info": {
   "codemirror_mode": {
    "name": "ipython",
    "version": 3
   },
   "file_extension": ".py",
   "mimetype": "text/x-python",
   "name": "python",
   "nbconvert_exporter": "python",
   "pygments_lexer": "ipython3",
   "version": "3.13.5"
  }
 },
 "nbformat": 4,
 "nbformat_minor": 5
}
